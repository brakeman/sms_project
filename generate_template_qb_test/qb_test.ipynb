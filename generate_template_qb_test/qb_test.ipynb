{
 "cells": [
  {
   "cell_type": "code",
   "execution_count": 8,
   "metadata": {},
   "outputs": [
    {
     "name": "stderr",
     "output_type": "stream",
     "text": [
      "/usr/lib/python3/dist-packages/graph_tool/draw/cairo_draw.py:67: RuntimeWarning: Error importing matplotlib module. Graph drawing will not work.\n",
      "  warnings.warn(msg, RuntimeWarning)\n",
      "/usr/lib/python3/dist-packages/graph_tool/draw/cairo_draw.py:67: RuntimeWarning: Error importing matplotlib module. Graph drawing will not work.\n",
      "  warnings.warn(msg, RuntimeWarning)\n",
      "/usr/lib/python3/dist-packages/graph_tool/draw/cairo_draw.py:67: RuntimeWarning: Error importing matplotlib module. Graph drawing will not work.\n",
      "  warnings.warn(msg, RuntimeWarning)\n",
      "/usr/lib/python3/dist-packages/graph_tool/all.py:40: RuntimeWarning: Error importing draw module, proceeding nevertheless: cairo 1.10.0 is installed; cairo>=1.11.0 is required\n",
      "  warnings.warn(msg, RuntimeWarning)\n"
     ]
    }
   ],
   "source": [
    "import subprocess\n",
    "import numpy as np\n",
    "import pandas as pd\n",
    "import re\n",
    "import os\n",
    "from sklearn.feature_extraction.text import CountVectorizer\n",
    "from sklearn.feature_extraction.text import TfidfTransformer\n",
    "\n",
    "import redis\n",
    "from generate_sms_template.generate_template import generate_template, get_cluster_stat"
   ]
  },
  {
   "cell_type": "code",
   "execution_count": 4,
   "metadata": {},
   "outputs": [],
   "source": [
    "import os"
   ]
  },
  {
   "cell_type": "code",
   "execution_count": 5,
   "metadata": {},
   "outputs": [
    {
     "data": {
      "text/plain": [
       "<module 'posixpath' from '/usr/lib/python3.6/posixpath.py'>"
      ]
     },
     "execution_count": 5,
     "metadata": {},
     "output_type": "execute_result"
    }
   ],
   "source": [
    "os.path"
   ]
  },
  {
   "cell_type": "code",
   "execution_count": 5,
   "metadata": {},
   "outputs": [],
   "source": [
    "redis_client = redis.Redis(host='localhost', port=6379, db=0)"
   ]
  },
  {
   "cell_type": "markdown",
   "metadata": {},
   "source": [
    "### 原始数据 每个bank.csv"
   ]
  },
  {
   "cell_type": "code",
   "execution_count": 39,
   "metadata": {},
   "outputs": [
    {
     "name": "stdout",
     "output_type": "stream",
     "text": [
      "['KOTKBK.csv', 'SBICRD.csv', 'BOIIND.csv', 'HDFCBK.csv', 'BKDENA.csv', 'ANDBNK.csv', 'FROMSC.csv', 'MYACCT.csv', 'SCISMS.csv', 'FEDBNK.csv', 'KOTAKB.csv', 'DBSBNK.csv', 'AIRBNK.csv', 'UNIONB.csv', 'ICICIB.csv', 'SBIUPI.csv', 'SARBNK.csv', 'PAYBAK.csv', 'CANBNK.csv', 'BOBTXN.csv', 'IDBIBK.csv', 'KTKBNK.csv', 'INDUSB.csv', 'VIJBNK.csv', 'ZESTMN.csv', 'RBLBNK.csv', 'SYNBNK.csv', 'CORPBK.csv', 'EPFOHO.csv', 'SBIINB.csv', 'RBISAY.csv', 'UMOBIL.csv', 'BNKBZR.csv', 'IDFCBK.csv', 'INDBNK.csv', 'AXISMR.csv', 'SBGMBS.csv', 'PNBSMS.csv', 'SBIOTP.csv', 'CBSSBI.csv', 'CSHBCK.csv', 'PAYTMB.csv', 'MAHABK.csv', 'YESBNK.csv', 'IOBCHN.csv', '.DS_Store', 'ATMSBI.csv', 'HDFCBN.csv', 'AXISBK.csv', 'SBIPSG.csv', 'CITIBK.csv']\n",
      "/data-0/gaoyu/india_sms/BANK_me_origin_20170901/KOTKBK.csv\n",
      "50\n"
     ]
    }
   ],
   "source": [
    "res_root = '/data-0/gaoyu/india_sms/BANK_me_origin_20170901'\n",
    "path_lis = []\n",
    "for fpathe,dirs,fs in os.walk(res_root):\n",
    "    print(fs)\n",
    "    for f in fs:\n",
    "        path_lis.append(os.path.join(fpathe,f))\n",
    "        \n",
    "path_lis = [i for i in path_lis if i != '/data-0/gaoyu/india_sms/BANK_me_origin_20170901/.DS_Store']\n",
    "print(path_lis[0])\n",
    "print(len(path_lis))"
   ]
  },
  {
   "cell_type": "code",
   "execution_count": 43,
   "metadata": {},
   "outputs": [
    {
     "data": {
      "text/plain": [
       "'/data-0/gaoyu/india_sms/BANK_me_origin_20170901/BOIIND.csv'"
      ]
     },
     "execution_count": 43,
     "metadata": {},
     "output_type": "execute_result"
    }
   ],
   "source": [
    "path_lis[2]"
   ]
  },
  {
   "cell_type": "markdown",
   "metadata": {},
   "source": [
    "### 检查0,2 列是不是代表我们要的东西； 先拿10个dispatcher 做图到模版聚类；"
   ]
  },
  {
   "cell_type": "code",
   "execution_count": 4,
   "metadata": {},
   "outputs": [
    {
     "name": "stdout",
     "output_type": "stream",
     "text": [
      "done num:48, remaining num:2\n",
      "/data-0/gaoyu/india_sms/BANK_me_origin_20170901/INDUSB.csv\n",
      "/data-0/gaoyu/india_sms/BANK_me_origin_20170901/SBGMBS.csv\n"
     ]
    }
   ],
   "source": [
    "bank_name_lis = [i.split('/')[-1].split('.')[0] for i in path_lis]\n",
    "\n",
    "done_path  = '/data-0/tigergraph/template/'\n",
    "done_list = os.listdir(done_path)\n",
    "\n",
    "remain_lis = set(bank_name_lis) - set(done_list)\n",
    "print('done num:{}, remaining num:{}'.format(len(done_list), len(remain_lis)))\n",
    "\n",
    "remain_lis = [i for i in path_lis if i.split('/')[-1].split('.')[0] in remain_lis]\n",
    "z = [print(i) for i in remain_lis]"
   ]
  },
  {
   "cell_type": "markdown",
   "metadata": {},
   "source": [
    "### 跑图聚类"
   ]
  },
  {
   "cell_type": "raw",
   "metadata": {},
   "source": [
    "sms_files = remain_lis\n",
    "for sms_file in sms_files:\n",
    "    if (sms_file != '/data-0/gaoyu/india_sms/BANK_me_origin_20170901/INDUSB.csv') and (sms_file != '/data-0/gaoyu/india_sms/BANK_me_origin_20170901/SBGMBS.csv'):\n",
    "        template_dir = generate_template(sms_file)\n",
    "        get_cluster_stat(redis_client, sms_file, template_dir)\n",
    "        \n",
    "        "
   ]
  },
  {
   "cell_type": "markdown",
   "metadata": {},
   "source": [
    "### 每个dispatcher 每个template 的路径"
   ]
  },
  {
   "cell_type": "code",
   "execution_count": 19,
   "metadata": {},
   "outputs": [],
   "source": [
    "template = '/data-0/tigergraph/template'\n",
    "\n",
    "template_lis = []\n",
    "for fpathe,dirs,fs in os.walk(template):\n",
    "    lis2 = []\n",
    "    for f in fs:\n",
    "        if f != 'for_label.txt':\n",
    "            lis2.append(os.path.join(fpathe,f))\n",
    "    template_lis.append(lis2)\n",
    "    \n",
    "# template_lis[4]"
   ]
  },
  {
   "cell_type": "markdown",
   "metadata": {},
   "source": [
    "###  每个dispatcher， 对所有的模版按照发生比率排序； 一旦达到85%覆盖率， 停止；输出模版文件名list；"
   ]
  },
  {
   "cell_type": "code",
   "execution_count": 20,
   "metadata": {},
   "outputs": [],
   "source": [
    "# To_train_path = '/data-0/tigergraph/TO_train/'\n",
    "dispatcher_thresh_lis = []\n",
    "for dispatcher in template_lis[1:]:\n",
    "    idxs = [i.split('/')[-1].split('_')[0] for i in dispatcher]\n",
    "    nums = [int(i.split('/')[-1].split('_')[1]) for i in dispatcher]\n",
    "    dic = {}\n",
    "    ratios = [i/sum(nums) for i in nums]\n",
    "    for idx, num, ratio in zip(idxs, nums, ratios):\n",
    "        dic[idx] = [num, ratio]\n",
    "    \n",
    "    lis = sorted(dic.items(), key=lambda d: d[1][1], reverse=True)\n",
    "    percent = 0\n",
    "    file_names = []\n",
    "    for i in lis:\n",
    "        percent += i[1][1]\n",
    "        if percent < 0.95 and i[1][1] > 0.002:\n",
    "            name = i[0]+ '_'+ str(i[1][0])\n",
    "            file_names.append(name)\n",
    "    path = '/'.join(dispatcher[0].split('/')[:-1])\n",
    "    final_path = [path + '/' + i for i in file_names]\n",
    "    dispatcher_thresh_lis.append(final_path)\n",
    "dispatcher_thresh_lis = [i for i in dispatcher_thresh_lis if i]"
   ]
  },
  {
   "cell_type": "markdown",
   "metadata": {},
   "source": [
    "### 对所有的模版进行采样， 写到一个总的文件中；"
   ]
  },
  {
   "cell_type": "code",
   "execution_count": 21,
   "metadata": {},
   "outputs": [
    {
     "data": {
      "text/html": [
       "<div>\n",
       "<style scoped>\n",
       "    .dataframe tbody tr th:only-of-type {\n",
       "        vertical-align: middle;\n",
       "    }\n",
       "\n",
       "    .dataframe tbody tr th {\n",
       "        vertical-align: top;\n",
       "    }\n",
       "\n",
       "    .dataframe thead th {\n",
       "        text-align: right;\n",
       "    }\n",
       "</style>\n",
       "<table border=\"1\" class=\"dataframe\">\n",
       "  <thead>\n",
       "    <tr style=\"text-align: right;\">\n",
       "      <th></th>\n",
       "      <th>sms</th>\n",
       "      <th>cluster_id</th>\n",
       "      <th>cluster_points</th>\n",
       "      <th>bank</th>\n",
       "      <th>Cluster_id</th>\n",
       "    </tr>\n",
       "  </thead>\n",
       "  <tbody>\n",
       "    <tr>\n",
       "      <th>0</th>\n",
       "      <td>Rs 1500.00 debited from a/c **2140 on 05-10-18...</td>\n",
       "      <td>5</td>\n",
       "      <td>19814</td>\n",
       "      <td>HDFCBK</td>\n",
       "      <td>HDFCBK_5</td>\n",
       "    </tr>\n",
       "    <tr>\n",
       "      <th>1</th>\n",
       "      <td>Thank you for using Debit Card ending 2200 for...</td>\n",
       "      <td>0</td>\n",
       "      <td>19785</td>\n",
       "      <td>HDFCBK</td>\n",
       "      <td>HDFCBK_0</td>\n",
       "    </tr>\n",
       "    <tr>\n",
       "      <th>2</th>\n",
       "      <td>OTP is 655150 for txn of INR 2000.00 at ONE97 ...</td>\n",
       "      <td>9</td>\n",
       "      <td>17531</td>\n",
       "      <td>HDFCBK</td>\n",
       "      <td>HDFCBK_9</td>\n",
       "    </tr>\n",
       "  </tbody>\n",
       "</table>\n",
       "</div>"
      ],
      "text/plain": [
       "                                                 sms cluster_id  \\\n",
       "0  Rs 1500.00 debited from a/c **2140 on 05-10-18...          5   \n",
       "1  Thank you for using Debit Card ending 2200 for...          0   \n",
       "2  OTP is 655150 for txn of INR 2000.00 at ONE97 ...          9   \n",
       "\n",
       "  cluster_points    bank Cluster_id  \n",
       "0          19814  HDFCBK   HDFCBK_5  \n",
       "1          19785  HDFCBK   HDFCBK_0  \n",
       "2          17531  HDFCBK   HDFCBK_9  "
      ]
     },
     "execution_count": 21,
     "metadata": {},
     "output_type": "execute_result"
    }
   ],
   "source": [
    "To_train_path = '/data-0/tigergraph/TO_train/'\n",
    "# Final_Train = '/data-0/tigergraph/Final_train.txt'\n",
    "Train_bank_samples = []\n",
    "# with open(Final_Train, 'w+') as ff_train:\n",
    "for dispatcher in dispatcher_thresh_lis:\n",
    "    dispatch_name  = dispatcher[0].split('/')[-2]\n",
    "    train_file = To_train_path + dispatch_name + '.txt'\n",
    "    # 每一个银行\n",
    "    with open(train_file, 'w+') as ff:\n",
    "        for template in dispatcher:\n",
    "            # 每一个模版\n",
    "            with open(template, \"r\") as file:\n",
    "                tmp1 = file.readlines()\n",
    "            template_nums = template.split('/')[-1].split('_')[-1]\n",
    "            template_ids = template.split('/')[-1].split('_')[0]\n",
    "#                 print(template)\n",
    "            to_write = tmp1[-1:]\n",
    "            for text in to_write:\n",
    "                Train_bank_samples.append((text, template_ids, template_nums, dispatch_name))\n",
    "#                     ff.write(i)\n",
    "#                     ff_train.write(i)\n",
    "\n",
    "template = pd.DataFrame.from_records(Train_bank_samples)\n",
    "\n",
    "template.columns = ['sms', 'cluster_id', 'cluster_points', 'bank']\n",
    "template['Cluster_id'] = template.bank + '_' + template.cluster_id\n",
    "# template = template.drop(['cluster_id', 'bank'],axis=1)\n",
    "template.head(3)\n",
    "\n",
    "# res.to_csv('all_train_samples.csv')"
   ]
  },
  {
   "cell_type": "code",
   "execution_count": 22,
   "metadata": {},
   "outputs": [
    {
     "ename": "SyntaxError",
     "evalue": "unexpected EOF while parsing (<ipython-input-22-731b09a7edc5>, line 1)",
     "output_type": "error",
     "traceback": [
      "\u001b[0;36m  File \u001b[0;32m\"<ipython-input-22-731b09a7edc5>\"\u001b[0;36m, line \u001b[0;32m1\u001b[0m\n\u001b[0;31m    len(template.bank.unique()\u001b[0m\n\u001b[0m                              ^\u001b[0m\n\u001b[0;31mSyntaxError\u001b[0m\u001b[0;31m:\u001b[0m unexpected EOF while parsing\n"
     ]
    }
   ],
   "source": [
    "len(template.bank.unique()"
   ]
  },
  {
   "cell_type": "markdown",
   "metadata": {},
   "source": [
    "#### 先拿top10 测试\n"
   ]
  },
  {
   "cell_type": "code",
   "execution_count": 23,
   "metadata": {},
   "outputs": [
    {
     "name": "stderr",
     "output_type": "stream",
     "text": [
      "/home/tigergraph/test1/lib/python3.5/site-packages/ipykernel_launcher.py:5: SettingWithCopyWarning: \n",
      "A value is trying to be set on a copy of a slice from a DataFrame.\n",
      "Try using .loc[row_indexer,col_indexer] = value instead\n",
      "\n",
      "See the caveats in the documentation: http://pandas.pydata.org/pandas-docs/stable/indexing.html#indexing-view-versus-copy\n",
      "  \"\"\"\n"
     ]
    }
   ],
   "source": [
    "count_bank = template.groupby('bank').count()\n",
    "top_10_bank = count_bank.sort_values(by ='sms').head(10).index.tolist()\n",
    "\n",
    "top_10_df = template[template.bank.isin(top_10_bank)]\n",
    "top_10_df['unique_template_id'] = top_10_df.bank + '_' + top_10_df.cluster_id\n"
   ]
  },
  {
   "cell_type": "code",
   "execution_count": 24,
   "metadata": {},
   "outputs": [
    {
     "data": {
      "text/html": [
       "<div>\n",
       "<style scoped>\n",
       "    .dataframe tbody tr th:only-of-type {\n",
       "        vertical-align: middle;\n",
       "    }\n",
       "\n",
       "    .dataframe tbody tr th {\n",
       "        vertical-align: top;\n",
       "    }\n",
       "\n",
       "    .dataframe thead th {\n",
       "        text-align: right;\n",
       "    }\n",
       "</style>\n",
       "<table border=\"1\" class=\"dataframe\">\n",
       "  <thead>\n",
       "    <tr style=\"text-align: right;\">\n",
       "      <th></th>\n",
       "      <th>sms</th>\n",
       "      <th>cluster_id</th>\n",
       "      <th>cluster_points</th>\n",
       "      <th>bank</th>\n",
       "      <th>Cluster_id</th>\n",
       "      <th>unique_template_id</th>\n",
       "    </tr>\n",
       "  </thead>\n",
       "  <tbody>\n",
       "    <tr>\n",
       "      <th>551</th>\n",
       "      <td>Open Zero Balance A/c with Kotak Mahindra Bank...</td>\n",
       "      <td>1</td>\n",
       "      <td>1649</td>\n",
       "      <td>CSHBCK</td>\n",
       "      <td>CSHBCK_1</td>\n",
       "      <td>CSHBCK_1</td>\n",
       "    </tr>\n",
       "    <tr>\n",
       "      <th>552</th>\n",
       "      <td>Your Kotak Savings Account Here. Open: http://...</td>\n",
       "      <td>0</td>\n",
       "      <td>1473</td>\n",
       "      <td>CSHBCK</td>\n",
       "      <td>CSHBCK_0</td>\n",
       "      <td>CSHBCK_0</td>\n",
       "    </tr>\n",
       "    <tr>\n",
       "      <th>553</th>\n",
       "      <td>Your Loan Approved  Complete Process: Click ht...</td>\n",
       "      <td>3</td>\n",
       "      <td>387</td>\n",
       "      <td>CSHBCK</td>\n",
       "      <td>CSHBCK_3</td>\n",
       "      <td>CSHBCK_3</td>\n",
       "    </tr>\n",
       "    <tr>\n",
       "      <th>632</th>\n",
       "      <td>Open Zero Balance A/c with Kotak Mahindra Bank...</td>\n",
       "      <td>0</td>\n",
       "      <td>2682</td>\n",
       "      <td>MYACCT</td>\n",
       "      <td>MYACCT_0</td>\n",
       "      <td>MYACCT_0</td>\n",
       "    </tr>\n",
       "    <tr>\n",
       "      <th>633</th>\n",
       "      <td>Your Kotak Savings Account Here. Open:  http:/...</td>\n",
       "      <td>1</td>\n",
       "      <td>1736</td>\n",
       "      <td>MYACCT</td>\n",
       "      <td>MYACCT_1</td>\n",
       "      <td>MYACCT_1</td>\n",
       "    </tr>\n",
       "    <tr>\n",
       "      <th>634</th>\n",
       "      <td>Open Zero Balance A/c with Kotak Mahindra Bank...</td>\n",
       "      <td>0</td>\n",
       "      <td>12950</td>\n",
       "      <td>KOTKBK</td>\n",
       "      <td>KOTKBK_0</td>\n",
       "      <td>KOTKBK_0</td>\n",
       "    </tr>\n",
       "    <tr>\n",
       "      <th>635</th>\n",
       "      <td>Open Zero Balance A/c with Kotak Mahindra Bank...</td>\n",
       "      <td>1</td>\n",
       "      <td>3690</td>\n",
       "      <td>KOTKBK</td>\n",
       "      <td>KOTKBK_1</td>\n",
       "      <td>KOTKBK_1</td>\n",
       "    </tr>\n",
       "    <tr>\n",
       "      <th>636</th>\n",
       "      <td>173075 is your One Time Password for online pu...</td>\n",
       "      <td>0</td>\n",
       "      <td>22968</td>\n",
       "      <td>SBIOTP</td>\n",
       "      <td>SBIOTP_0</td>\n",
       "      <td>SBIOTP_0</td>\n",
       "    </tr>\n",
       "    <tr>\n",
       "      <th>692</th>\n",
       "      <td>Dear Customer  you have sent Rs.1300.00 via IM...</td>\n",
       "      <td>2</td>\n",
       "      <td>15279</td>\n",
       "      <td>PAYTMB</td>\n",
       "      <td>PAYTMB_2</td>\n",
       "      <td>PAYTMB_2</td>\n",
       "    </tr>\n",
       "    <tr>\n",
       "      <th>693</th>\n",
       "      <td>Dear Customer  you have sent Rs.429.00 to add-...</td>\n",
       "      <td>1</td>\n",
       "      <td>14887</td>\n",
       "      <td>PAYTMB</td>\n",
       "      <td>PAYTMB_1</td>\n",
       "      <td>PAYTMB_1</td>\n",
       "    </tr>\n",
       "    <tr>\n",
       "      <th>694</th>\n",
       "      <td>Dear Customer  you have paid Rs.16.00 via your...</td>\n",
       "      <td>5</td>\n",
       "      <td>9983</td>\n",
       "      <td>PAYTMB</td>\n",
       "      <td>PAYTMB_5</td>\n",
       "      <td>PAYTMB_5</td>\n",
       "    </tr>\n",
       "    <tr>\n",
       "      <th>695</th>\n",
       "      <td>You have received Rs.90.00 in your Savings acc...</td>\n",
       "      <td>4</td>\n",
       "      <td>4457</td>\n",
       "      <td>PAYTMB</td>\n",
       "      <td>PAYTMB_4</td>\n",
       "      <td>PAYTMB_4</td>\n",
       "    </tr>\n",
       "    <tr>\n",
       "      <th>696</th>\n",
       "      <td>Dear Customer  you have paid Rs.14.00 using Pa...</td>\n",
       "      <td>3</td>\n",
       "      <td>3413</td>\n",
       "      <td>PAYTMB</td>\n",
       "      <td>PAYTMB_3</td>\n",
       "      <td>PAYTMB_3</td>\n",
       "    </tr>\n",
       "    <tr>\n",
       "      <th>697</th>\n",
       "      <td>Razorpay has requested Rs.672.00 from you. Tap...</td>\n",
       "      <td>0</td>\n",
       "      <td>3233</td>\n",
       "      <td>PAYTMB</td>\n",
       "      <td>PAYTMB_0</td>\n",
       "      <td>PAYTMB_0</td>\n",
       "    </tr>\n",
       "    <tr>\n",
       "      <th>698</th>\n",
       "      <td>Dear Customer  Rs.100.00 was withdrawn using y...</td>\n",
       "      <td>12</td>\n",
       "      <td>2978</td>\n",
       "      <td>PAYTMB</td>\n",
       "      <td>PAYTMB_12</td>\n",
       "      <td>PAYTMB_12</td>\n",
       "    </tr>\n",
       "    <tr>\n",
       "      <th>699</th>\n",
       "      <td>Dear Customer  withdrawal of Rs.500.00 at GOEL...</td>\n",
       "      <td>13</td>\n",
       "      <td>890</td>\n",
       "      <td>PAYTMB</td>\n",
       "      <td>PAYTMB_13</td>\n",
       "      <td>PAYTMB_13</td>\n",
       "    </tr>\n",
       "    <tr>\n",
       "      <th>700</th>\n",
       "      <td>Dear Customer  Rs.20.00 has been charged for t...</td>\n",
       "      <td>20</td>\n",
       "      <td>768</td>\n",
       "      <td>PAYTMB</td>\n",
       "      <td>PAYTMB_20</td>\n",
       "      <td>PAYTMB_20</td>\n",
       "    </tr>\n",
       "    <tr>\n",
       "      <th>701</th>\n",
       "      <td>522417 is your one time password for resetting...</td>\n",
       "      <td>26</td>\n",
       "      <td>576</td>\n",
       "      <td>PAYTMB</td>\n",
       "      <td>PAYTMB_26</td>\n",
       "      <td>PAYTMB_26</td>\n",
       "    </tr>\n",
       "    <tr>\n",
       "      <th>702</th>\n",
       "      <td>Dear Customer  Please note that our new 24*7 h...</td>\n",
       "      <td>109</td>\n",
       "      <td>455</td>\n",
       "      <td>PAYTMB</td>\n",
       "      <td>PAYTMB_109</td>\n",
       "      <td>PAYTMB_109</td>\n",
       "    </tr>\n",
       "    <tr>\n",
       "      <th>703</th>\n",
       "      <td>Dear Customer  Rs. 1.00 has been added back to...</td>\n",
       "      <td>22</td>\n",
       "      <td>350</td>\n",
       "      <td>PAYTMB</td>\n",
       "      <td>PAYTMB_22</td>\n",
       "      <td>PAYTMB_22</td>\n",
       "    </tr>\n",
       "    <tr>\n",
       "      <th>704</th>\n",
       "      <td>Please click on below link to set paytm passco...</td>\n",
       "      <td>11</td>\n",
       "      <td>284</td>\n",
       "      <td>PAYTMB</td>\n",
       "      <td>PAYTMB_11</td>\n",
       "      <td>PAYTMB_11</td>\n",
       "    </tr>\n",
       "    <tr>\n",
       "      <th>705</th>\n",
       "      <td>Dear Customer  Your account XXXXXX6296 is cred...</td>\n",
       "      <td>28</td>\n",
       "      <td>254</td>\n",
       "      <td>PAYTMB</td>\n",
       "      <td>PAYTMB_28</td>\n",
       "      <td>PAYTMB_28</td>\n",
       "    </tr>\n",
       "    <tr>\n",
       "      <th>706</th>\n",
       "      <td>Dear Customer- with regards to your Bank  Wall...</td>\n",
       "      <td>24</td>\n",
       "      <td>194</td>\n",
       "      <td>PAYTMB</td>\n",
       "      <td>PAYTMB_24</td>\n",
       "      <td>PAYTMB_24</td>\n",
       "    </tr>\n",
       "    <tr>\n",
       "      <th>1043</th>\n",
       "      <td>Rs.131237 is Debited to A/c ...0523 on 07-09-1...</td>\n",
       "      <td>2</td>\n",
       "      <td>18162</td>\n",
       "      <td>BOBTXN</td>\n",
       "      <td>BOBTXN_2</td>\n",
       "      <td>BOBTXN_2</td>\n",
       "    </tr>\n",
       "    <tr>\n",
       "      <th>1044</th>\n",
       "      <td>Rs.4493 is Credited to A/c ...4645 on 24-09-18...</td>\n",
       "      <td>0</td>\n",
       "      <td>12744</td>\n",
       "      <td>BOBTXN</td>\n",
       "      <td>BOBTXN_0</td>\n",
       "      <td>BOBTXN_0</td>\n",
       "    </tr>\n",
       "    <tr>\n",
       "      <th>1488</th>\n",
       "      <td>Thank you for using your SBI Debit Card 521XX1...</td>\n",
       "      <td>1</td>\n",
       "      <td>30189</td>\n",
       "      <td>ATMSBI</td>\n",
       "      <td>ATMSBI_1</td>\n",
       "      <td>ATMSBI_1</td>\n",
       "    </tr>\n",
       "    <tr>\n",
       "      <th>1489</th>\n",
       "      <td>Rs 1500 w/d at SBI ATM S5NE070383621 SBIPEYAD ...</td>\n",
       "      <td>0</td>\n",
       "      <td>25060</td>\n",
       "      <td>ATMSBI</td>\n",
       "      <td>ATMSBI_0</td>\n",
       "      <td>ATMSBI_0</td>\n",
       "    </tr>\n",
       "    <tr>\n",
       "      <th>1490</th>\n",
       "      <td>Thank you for using your SBI Debit Card 607XX7...</td>\n",
       "      <td>5</td>\n",
       "      <td>2499</td>\n",
       "      <td>ATMSBI</td>\n",
       "      <td>ATMSBI_5</td>\n",
       "      <td>ATMSBI_5</td>\n",
       "    </tr>\n",
       "    <tr>\n",
       "      <th>1491</th>\n",
       "      <td>Dear customer your transaction at POS 02PL0034...</td>\n",
       "      <td>10</td>\n",
       "      <td>2257</td>\n",
       "      <td>ATMSBI</td>\n",
       "      <td>ATMSBI_10</td>\n",
       "      <td>ATMSBI_10</td>\n",
       "    </tr>\n",
       "    <tr>\n",
       "      <th>1492</th>\n",
       "      <td>Dear Customer  never ever share your Card numb...</td>\n",
       "      <td>4</td>\n",
       "      <td>1536</td>\n",
       "      <td>ATMSBI</td>\n",
       "      <td>ATMSBI_4</td>\n",
       "      <td>ATMSBI_4</td>\n",
       "    </tr>\n",
       "    <tr>\n",
       "      <th>1493</th>\n",
       "      <td>Rs 5000 withdrawn at SBI ATM  FBBX003917029  K...</td>\n",
       "      <td>12</td>\n",
       "      <td>1320</td>\n",
       "      <td>ATMSBI</td>\n",
       "      <td>ATMSBI_12</td>\n",
       "      <td>ATMSBI_12</td>\n",
       "    </tr>\n",
       "    <tr>\n",
       "      <th>1534</th>\n",
       "      <td>Your a/c no. XXXXXXXX1030 is debited for Rs.15...</td>\n",
       "      <td>1</td>\n",
       "      <td>5639</td>\n",
       "      <td>UMOBIL</td>\n",
       "      <td>UMOBIL_1</td>\n",
       "      <td>UMOBIL_1</td>\n",
       "    </tr>\n",
       "    <tr>\n",
       "      <th>1535</th>\n",
       "      <td>Your a/c no. XXXXXXXX7153 is debited for Rs. 1...</td>\n",
       "      <td>0</td>\n",
       "      <td>810</td>\n",
       "      <td>UMOBIL</td>\n",
       "      <td>UMOBIL_0</td>\n",
       "      <td>UMOBIL_0</td>\n",
       "    </tr>\n",
       "    <tr>\n",
       "      <th>1536</th>\n",
       "      <td>Dear Customer 798328 is the OTP for Union Bank...</td>\n",
       "      <td>2</td>\n",
       "      <td>678</td>\n",
       "      <td>UMOBIL</td>\n",
       "      <td>UMOBIL_2</td>\n",
       "      <td>UMOBIL_2</td>\n",
       "    </tr>\n",
       "    <tr>\n",
       "      <th>1537</th>\n",
       "      <td>Your MPIN is : 3648 - UMobile\\n</td>\n",
       "      <td>4</td>\n",
       "      <td>125</td>\n",
       "      <td>UMOBIL</td>\n",
       "      <td>UMOBIL_4</td>\n",
       "      <td>UMOBIL_4</td>\n",
       "    </tr>\n",
       "    <tr>\n",
       "      <th>1538</th>\n",
       "      <td>Dear Customer Your virtual ID shankar.sep12@un...</td>\n",
       "      <td>14</td>\n",
       "      <td>123</td>\n",
       "      <td>UMOBIL</td>\n",
       "      <td>UMOBIL_14</td>\n",
       "      <td>UMOBIL_14</td>\n",
       "    </tr>\n",
       "    <tr>\n",
       "      <th>1539</th>\n",
       "      <td>Your a/c no. XXXXXXXX9012 is credited for Rs. ...</td>\n",
       "      <td>15</td>\n",
       "      <td>77</td>\n",
       "      <td>UMOBIL</td>\n",
       "      <td>UMOBIL_15</td>\n",
       "      <td>UMOBIL_15</td>\n",
       "    </tr>\n",
       "    <tr>\n",
       "      <th>1540</th>\n",
       "      <td>GPRS download use http://mobile.fssnet.co.in/u...</td>\n",
       "      <td>5</td>\n",
       "      <td>69</td>\n",
       "      <td>UMOBIL</td>\n",
       "      <td>UMOBIL_5</td>\n",
       "      <td>UMOBIL_5</td>\n",
       "    </tr>\n",
       "    <tr>\n",
       "      <th>1590</th>\n",
       "      <td>Online Banking? Only use sites with https; avo...</td>\n",
       "      <td>0</td>\n",
       "      <td>5823</td>\n",
       "      <td>RBISAY</td>\n",
       "      <td>RBISAY_0</td>\n",
       "      <td>RBISAY_0</td>\n",
       "    </tr>\n",
       "    <tr>\n",
       "      <th>1591</th>\n",
       "      <td>?????? ???????? https ?????? ?? ????? ????  ??...</td>\n",
       "      <td>2</td>\n",
       "      <td>5311</td>\n",
       "      <td>RBISAY</td>\n",
       "      <td>RBISAY_2</td>\n",
       "      <td>RBISAY_2</td>\n",
       "    </tr>\n",
       "    <tr>\n",
       "      <th>1592</th>\n",
       "      <td>Banking electronically? Register yourself for ...</td>\n",
       "      <td>1</td>\n",
       "      <td>3781</td>\n",
       "      <td>RBISAY</td>\n",
       "      <td>RBISAY_1</td>\n",
       "      <td>RBISAY_1</td>\n",
       "    </tr>\n",
       "    <tr>\n",
       "      <th>1640</th>\n",
       "      <td>Dear SBI UPI User  your account is credited IN...</td>\n",
       "      <td>0</td>\n",
       "      <td>47888</td>\n",
       "      <td>SBIUPI</td>\n",
       "      <td>SBIUPI_0</td>\n",
       "      <td>SBIUPI_0</td>\n",
       "    </tr>\n",
       "  </tbody>\n",
       "</table>\n",
       "</div>"
      ],
      "text/plain": [
       "                                                    sms cluster_id  \\\n",
       "551   Open Zero Balance A/c with Kotak Mahindra Bank...          1   \n",
       "552   Your Kotak Savings Account Here. Open: http://...          0   \n",
       "553   Your Loan Approved  Complete Process: Click ht...          3   \n",
       "632   Open Zero Balance A/c with Kotak Mahindra Bank...          0   \n",
       "633   Your Kotak Savings Account Here. Open:  http:/...          1   \n",
       "634   Open Zero Balance A/c with Kotak Mahindra Bank...          0   \n",
       "635   Open Zero Balance A/c with Kotak Mahindra Bank...          1   \n",
       "636   173075 is your One Time Password for online pu...          0   \n",
       "692   Dear Customer  you have sent Rs.1300.00 via IM...          2   \n",
       "693   Dear Customer  you have sent Rs.429.00 to add-...          1   \n",
       "694   Dear Customer  you have paid Rs.16.00 via your...          5   \n",
       "695   You have received Rs.90.00 in your Savings acc...          4   \n",
       "696   Dear Customer  you have paid Rs.14.00 using Pa...          3   \n",
       "697   Razorpay has requested Rs.672.00 from you. Tap...          0   \n",
       "698   Dear Customer  Rs.100.00 was withdrawn using y...         12   \n",
       "699   Dear Customer  withdrawal of Rs.500.00 at GOEL...         13   \n",
       "700   Dear Customer  Rs.20.00 has been charged for t...         20   \n",
       "701   522417 is your one time password for resetting...         26   \n",
       "702   Dear Customer  Please note that our new 24*7 h...        109   \n",
       "703   Dear Customer  Rs. 1.00 has been added back to...         22   \n",
       "704   Please click on below link to set paytm passco...         11   \n",
       "705   Dear Customer  Your account XXXXXX6296 is cred...         28   \n",
       "706   Dear Customer- with regards to your Bank  Wall...         24   \n",
       "1043  Rs.131237 is Debited to A/c ...0523 on 07-09-1...          2   \n",
       "1044  Rs.4493 is Credited to A/c ...4645 on 24-09-18...          0   \n",
       "1488  Thank you for using your SBI Debit Card 521XX1...          1   \n",
       "1489  Rs 1500 w/d at SBI ATM S5NE070383621 SBIPEYAD ...          0   \n",
       "1490  Thank you for using your SBI Debit Card 607XX7...          5   \n",
       "1491  Dear customer your transaction at POS 02PL0034...         10   \n",
       "1492  Dear Customer  never ever share your Card numb...          4   \n",
       "1493  Rs 5000 withdrawn at SBI ATM  FBBX003917029  K...         12   \n",
       "1534  Your a/c no. XXXXXXXX1030 is debited for Rs.15...          1   \n",
       "1535  Your a/c no. XXXXXXXX7153 is debited for Rs. 1...          0   \n",
       "1536  Dear Customer 798328 is the OTP for Union Bank...          2   \n",
       "1537                    Your MPIN is : 3648 - UMobile\\n          4   \n",
       "1538  Dear Customer Your virtual ID shankar.sep12@un...         14   \n",
       "1539  Your a/c no. XXXXXXXX9012 is credited for Rs. ...         15   \n",
       "1540  GPRS download use http://mobile.fssnet.co.in/u...          5   \n",
       "1590  Online Banking? Only use sites with https; avo...          0   \n",
       "1591  ?????? ???????? https ?????? ?? ????? ????  ??...          2   \n",
       "1592  Banking electronically? Register yourself for ...          1   \n",
       "1640  Dear SBI UPI User  your account is credited IN...          0   \n",
       "\n",
       "     cluster_points    bank  Cluster_id unique_template_id  \n",
       "551            1649  CSHBCK    CSHBCK_1           CSHBCK_1  \n",
       "552            1473  CSHBCK    CSHBCK_0           CSHBCK_0  \n",
       "553             387  CSHBCK    CSHBCK_3           CSHBCK_3  \n",
       "632            2682  MYACCT    MYACCT_0           MYACCT_0  \n",
       "633            1736  MYACCT    MYACCT_1           MYACCT_1  \n",
       "634           12950  KOTKBK    KOTKBK_0           KOTKBK_0  \n",
       "635            3690  KOTKBK    KOTKBK_1           KOTKBK_1  \n",
       "636           22968  SBIOTP    SBIOTP_0           SBIOTP_0  \n",
       "692           15279  PAYTMB    PAYTMB_2           PAYTMB_2  \n",
       "693           14887  PAYTMB    PAYTMB_1           PAYTMB_1  \n",
       "694            9983  PAYTMB    PAYTMB_5           PAYTMB_5  \n",
       "695            4457  PAYTMB    PAYTMB_4           PAYTMB_4  \n",
       "696            3413  PAYTMB    PAYTMB_3           PAYTMB_3  \n",
       "697            3233  PAYTMB    PAYTMB_0           PAYTMB_0  \n",
       "698            2978  PAYTMB   PAYTMB_12          PAYTMB_12  \n",
       "699             890  PAYTMB   PAYTMB_13          PAYTMB_13  \n",
       "700             768  PAYTMB   PAYTMB_20          PAYTMB_20  \n",
       "701             576  PAYTMB   PAYTMB_26          PAYTMB_26  \n",
       "702             455  PAYTMB  PAYTMB_109         PAYTMB_109  \n",
       "703             350  PAYTMB   PAYTMB_22          PAYTMB_22  \n",
       "704             284  PAYTMB   PAYTMB_11          PAYTMB_11  \n",
       "705             254  PAYTMB   PAYTMB_28          PAYTMB_28  \n",
       "706             194  PAYTMB   PAYTMB_24          PAYTMB_24  \n",
       "1043          18162  BOBTXN    BOBTXN_2           BOBTXN_2  \n",
       "1044          12744  BOBTXN    BOBTXN_0           BOBTXN_0  \n",
       "1488          30189  ATMSBI    ATMSBI_1           ATMSBI_1  \n",
       "1489          25060  ATMSBI    ATMSBI_0           ATMSBI_0  \n",
       "1490           2499  ATMSBI    ATMSBI_5           ATMSBI_5  \n",
       "1491           2257  ATMSBI   ATMSBI_10          ATMSBI_10  \n",
       "1492           1536  ATMSBI    ATMSBI_4           ATMSBI_4  \n",
       "1493           1320  ATMSBI   ATMSBI_12          ATMSBI_12  \n",
       "1534           5639  UMOBIL    UMOBIL_1           UMOBIL_1  \n",
       "1535            810  UMOBIL    UMOBIL_0           UMOBIL_0  \n",
       "1536            678  UMOBIL    UMOBIL_2           UMOBIL_2  \n",
       "1537            125  UMOBIL    UMOBIL_4           UMOBIL_4  \n",
       "1538            123  UMOBIL   UMOBIL_14          UMOBIL_14  \n",
       "1539             77  UMOBIL   UMOBIL_15          UMOBIL_15  \n",
       "1540             69  UMOBIL    UMOBIL_5           UMOBIL_5  \n",
       "1590           5823  RBISAY    RBISAY_0           RBISAY_0  \n",
       "1591           5311  RBISAY    RBISAY_2           RBISAY_2  \n",
       "1592           3781  RBISAY    RBISAY_1           RBISAY_1  \n",
       "1640          47888  SBIUPI    SBIUPI_0           SBIUPI_0  "
      ]
     },
     "execution_count": 24,
     "metadata": {},
     "output_type": "execute_result"
    }
   ],
   "source": [
    "top_10_df"
   ]
  },
  {
   "cell_type": "markdown",
   "metadata": {},
   "source": [
    "### 服务器上预处理 然后 打标签；"
   ]
  },
  {
   "cell_type": "raw",
   "metadata": {},
   "source": [
    "Final_Train_cleaned = '/data-0/tigergraph/Final_train_cleaned_top10.txt'\n",
    "with open(Final_Train_cleaned, 'w') as fnew:\n",
    "    text = top_10_df.sms.values.tolist()\n",
    "    unique_template_id = top_10_df.unique_template_id.values.tolist()\n",
    "    print('file is processing and will be saved in:{}'.format(Final_Train_cleaned))\n",
    "    for idx, tup in enumerate(zip(text, unique_template_id)):\n",
    "        single, id_ = tup[0], tup[1]\n",
    "        if idx % 50000 == 0:\n",
    "            print('processing sentence num:{}'.format(idx))\n",
    "        sentence = id_ + ' ' + ''.join(single)\n",
    "        sentence = sentence.replace('?', ' ')\n",
    "        sentence = sentence.replace('!', ' ')\n",
    "        text2 = sentence.replace(',', ' ')\n",
    "        text3 = text2.replace('.', '. ')\n",
    "        text4 = [w.lower() for w in text3.split()]\n",
    "        text4 = [re.search('^rs\\.?', s).group(0) + re.sub('[rs.]+',' ',s) \n",
    "                 if re.search('^rs\\.?[0-9]', s) else s for s in text4]\n",
    "        final_sent = ' '.join(text4)\n",
    "        fin = final_sent.join(' \\n')\n",
    "        print(fin)\n",
    "        fnew.write(fin)"
   ]
  },
  {
   "cell_type": "markdown",
   "metadata": {},
   "source": [
    "### 打完标签变成json， 读取， 与原来的拼接到一起"
   ]
  },
  {
   "cell_type": "code",
   "execution_count": 9,
   "metadata": {},
   "outputs": [],
   "source": [
    "def labeledDataFromJson(json_path):\n",
    "    import json\n",
    "    res=[]\n",
    "    with open(json_path, 'r') as f:\n",
    "        for line in f.readlines():\n",
    "            dic = json.loads(line)\n",
    "    #         print(dic)\n",
    "            if dic['annotation'] is not None:\n",
    "                res.append((dic['content'], dic['annotation']['labels']))\n",
    "            else:\n",
    "                res.append((dic['content'], 'error'))\n",
    "\n",
    "    labeled_df = pd.DataFrame.from_records(res)\n",
    "    labeled_df.columns = ['sms', 'label']\n",
    "    return labeled_df\n",
    "\n",
    "top_10_train_path = '/home/qibo/项目2_sms/综合/bank-top-10-data/sms_top_10_bank.json'\n",
    "labeled_df = labeledDataFromJson(top_10_train_path)\n",
    "labeled_df.loc[labeled_df.label=='error','label'] = ['流水转出确认支付密码']"
   ]
  },
  {
   "cell_type": "markdown",
   "metadata": {},
   "source": [
    "### 基于sms 顺序 可以直接(top_10_template, labeled_top_10_template)拼接上"
   ]
  },
  {
   "cell_type": "code",
   "execution_count": 17,
   "metadata": {},
   "outputs": [
    {
     "name": "stderr",
     "output_type": "stream",
     "text": [
      "/home/tigergraph/test1/lib/python3.5/site-packages/ipykernel_launcher.py:1: SettingWithCopyWarning: \n",
      "A value is trying to be set on a copy of a slice from a DataFrame.\n",
      "Try using .loc[row_indexer,col_indexer] = value instead\n",
      "\n",
      "See the caveats in the documentation: http://pandas.pydata.org/pandas-docs/stable/indexing.html#indexing-view-versus-copy\n",
      "  \"\"\"Entry point for launching an IPython kernel.\n"
     ]
    }
   ],
   "source": [
    "top_10_df['label'] = labeled_df.label.tolist()"
   ]
  },
  {
   "cell_type": "code",
   "execution_count": 18,
   "metadata": {},
   "outputs": [
    {
     "data": {
      "text/plain": [
       "array(['sent_id_10 dear customer you have paid rs. 16. 00 via your paytm bank account xxxxxx1370 at paytm on 13-08-2018 at 18:45:45. updated balance: 36. 03. queries write to us at http://m. p-y. tm/care',\n",
       "       'sent_id_11 you have received rs. 90. 00 in your savings account xxxxxx9261 via sbi debit card. queries write to us at http://m. p-y. tm/care'],\n",
       "      dtype=object)"
      ]
     },
     "execution_count": 18,
     "metadata": {},
     "output_type": "execute_result"
    }
   ],
   "source": [
    "labeled_df.iloc[10:12].sms.values"
   ]
  },
  {
   "cell_type": "markdown",
   "metadata": {},
   "source": [
    "### 测试数据"
   ]
  },
  {
   "cell_type": "code",
   "execution_count": 19,
   "metadata": {},
   "outputs": [],
   "source": [
    "def get_samples(banklist):\n",
    "    '''从 banklist 中对每个银行 的每个模版采样N 个样本'''\n",
    "    To_train_path = '/data-0/tigergraph/TO_train/'\n",
    "    # Final_Train = '/data-0/tigergraph/Final_train.txt'\n",
    "    Train_bank_samples = []\n",
    "    # with open(Final_Train, 'w+') as ff_train:\n",
    "    for dispatcher in dispatcher_thresh_lis:\n",
    "        dispatch_name  = dispatcher[0].split('/')[-2]\n",
    "        train_file = To_train_path + dispatch_name + '.txt'\n",
    "        # 每一个银行\n",
    "        with open(train_file, 'w+') as ff:\n",
    "            for template in dispatcher:\n",
    "                # 每一个模版\n",
    "                with open(template, \"r\") as file:\n",
    "                    tmp1 = file.readlines()\n",
    "                template_nums = template.split('/')[-1].split('_')[-1]\n",
    "                template_ids = template.split('/')[-1].split('_')[0]\n",
    "                to_write = tmp1[-300:]\n",
    "                for text in to_write:\n",
    "                    Train_bank_samples.append((text, template_ids, template_nums, dispatch_name))\n",
    "\n",
    "    res = pd.DataFrame.from_records(Train_bank_samples)\n",
    "    res.columns = ['sms', 'cluster_id', 'cluster_points', 'bank']\n",
    "    res = res[res.bank.isin(banklist)]\n",
    "    res['unique_tmplate_id'] = res['bank'] + '_' + res['cluster_id'] \n",
    "    return res\n"
   ]
  },
  {
   "cell_type": "markdown",
   "metadata": {},
   "source": [
    "### 根据拿到的测试数据 来预测该短信类别"
   ]
  },
  {
   "cell_type": "code",
   "execution_count": 20,
   "metadata": {},
   "outputs": [],
   "source": [
    "from numpy import dot\n",
    "from numpy.linalg import norm\n",
    "\n",
    "def get_samples(banklist):\n",
    "    '''从 banklist 中对每个银行 的每个模版采样N 个样本'''\n",
    "    To_train_path = '/data-0/tigergraph/TO_train/'\n",
    "    # Final_Train = '/data-0/tigergraph/Final_train.txt'\n",
    "    Train_bank_samples = []\n",
    "    # with open(Final_Train, 'w+') as ff_train:\n",
    "    for dispatcher in dispatcher_thresh_lis:\n",
    "        dispatch_name  = dispatcher[0].split('/')[-2]\n",
    "        train_file = To_train_path + dispatch_name + '.txt'\n",
    "        # 每一个银行\n",
    "        with open(train_file, 'w+') as ff:\n",
    "            for template in dispatcher:\n",
    "                # 每一个模版\n",
    "                with open(template, \"r\") as file:\n",
    "                    tmp1 = file.readlines()\n",
    "                template_nums = template.split('/')[-1].split('_')[-1]\n",
    "                template_ids = template.split('/')[-1].split('_')[0]\n",
    "                to_write = tmp1[-300:]\n",
    "                for text in to_write:\n",
    "                    Train_bank_samples.append((text, template_ids, template_nums, dispatch_name))\n",
    "\n",
    "    res = pd.DataFrame.from_records(Train_bank_samples)\n",
    "    res.columns = ['sms', 'cluster_id', 'cluster_points', 'bank']\n",
    "    res = res[res.bank.isin(banklist)]\n",
    "    res['unique_tmplate_id'] = res['bank'] + '_' + res['cluster_id'] \n",
    "    return res\n",
    "\n",
    "\n",
    "def preprocess(text, single=False):\n",
    "    # if text is a df obj:\n",
    "    if isinstance(text, pd.DataFrame):\n",
    "        text_ = text.sms.values.tolist()\n",
    "        final = []\n",
    "        for idx, single in enumerate(text_):\n",
    "            if idx % 50000 == 0:\n",
    "                print('processing sentence num:{}'.format(idx))\n",
    "            sentence = ''.join(single)\n",
    "            sentence = sentence.replace('?', ' ')\n",
    "            sentence = sentence.replace('!', ' ')\n",
    "            text2 = sentence.replace(',', ' ')\n",
    "            text3 = text2.replace('.', '. ')\n",
    "            text4 = [w.lower() for w in text3.split()]\n",
    "            text4 = [re.search('^rs\\.?', s).group(0) + re.sub('[rs.]+',' ',s) \n",
    "                     if re.search('^rs\\.?[0-9]', s) else s for s in text4]\n",
    "            final_sent = ' '.join(text4)\n",
    "            fin = final_sent.join(' \\n')\n",
    "            final.append(fin)\n",
    "        text['new_sms'] = final\n",
    "        \n",
    "    # if text is a string obj:\n",
    "    elif isinstance(text, str):\n",
    "        sentence = ''.join(text)\n",
    "        sentence = sentence.replace('?', ' ')\n",
    "        sentence = sentence.replace('!', ' ')\n",
    "        text2 = sentence.replace(',', ' ')\n",
    "        text3 = text2.replace('.', '. ')\n",
    "        text4 = [w.lower() for w in text3.split()]\n",
    "        text4 = [re.search('^rs\\.?', s).group(0) + re.sub('[rs.]+',' ',s) \n",
    "                 if re.search('^rs\\.?[0-9]', s) else s for s in text4]\n",
    "        final_sent = ' '.join(text4)\n",
    "        text = final_sent.join(' \\n')\n",
    "        \n",
    "    else:\n",
    "        raise Exception('text type not allowed')\n",
    "    return text\n",
    "    \n",
    "def get_cos_similarity(sms, templates):\n",
    "    '''计算一条新sms 与 每个template 相似度'''\n",
    "    def cos_sim(a,b):\n",
    "        return dot(a, b)/(norm(a)*norm(b))\n",
    "    return [cos_sim(i,sms) for i in templates]\n",
    "\n",
    "def tfIdfVector(corpus):\n",
    "    '''corpus is a list of sentences'''\n",
    "    vectorizer = CountVectorizer()\n",
    "    transformer = TfidfTransformer()   \n",
    "    x = vectorizer.fit_transform(corpus)\n",
    "    tfidf = transformer.fit_transform(x)\n",
    "    return tfidf.toarray() \n",
    "\n",
    "def showClfResult(res, template_df):\n",
    "    '''展示一条随机采样的短信, 根据与模版短信相似度 --> 得到分类结果。'''\n",
    "    template_cleaned = preprocess(template_df)\n",
    "    template_corpus = template_cleaned.new_sms.tolist()\n",
    "    template_unique_id = template_cleaned.unique_template_id.tolist()\n",
    "    template_labels = [i[0] if isinstance(i, list) else i for i in template_cleaned.label]\n",
    "    new_instance_id = None\n",
    "    if isinstance(res, pd.DataFrame):\n",
    "        new_instance_ = res.sample()\n",
    "        new_instance = new_instance_.sms.tolist()\n",
    "        new_instance = preprocess(new_instance[0], single=True)\n",
    "        new_instance_id = new_instance_.unique_tmplate_id\n",
    "        print('new_instance:{}\\n此短信来自于模版:{}\\n'.format(new_instance, new_instance_id.values[0]))\n",
    "\n",
    "    elif isinstance(res, str):\n",
    "        new_instance = preprocess(res, single=True)\n",
    "        print(new_instance)\n",
    "    else:\n",
    "        raise Exception('instance type not allowed')\n",
    "    template_corpus.append(new_instance)\n",
    "    \n",
    "    tfidf = tfIdfVector(template_corpus)\n",
    "    cos_scores = get_cos_similarity(tfidf[-1], tfidf)[:-1]\n",
    "\n",
    "    max_score = np.max(cos_scores)\n",
    "    for i in zip(cos_scores, template_labels, template_unique_id):\n",
    "        if i[0] == max_score:\n",
    "            print('元组第三个代表模版ID:{}'.format(i))\n",
    "            return i[1]"
   ]
  },
  {
   "cell_type": "code",
   "execution_count": 21,
   "metadata": {},
   "outputs": [
    {
     "data": {
      "text/plain": [
       "['SBIUPI',\n",
       " 'SBIOTP',\n",
       " 'KOTKBK',\n",
       " 'MYACCT',\n",
       " 'BOBTXN',\n",
       " 'RBISAY',\n",
       " 'CSHBCK',\n",
       " 'ATMSBI',\n",
       " 'UMOBIL',\n",
       " 'PAYTMB']"
      ]
     },
     "execution_count": 21,
     "metadata": {},
     "output_type": "execute_result"
    }
   ],
   "source": [
    "top_10_bank"
   ]
  },
  {
   "cell_type": "code",
   "execution_count": 22,
   "metadata": {},
   "outputs": [
    {
     "data": {
      "text/html": [
       "<div>\n",
       "<style scoped>\n",
       "    .dataframe tbody tr th:only-of-type {\n",
       "        vertical-align: middle;\n",
       "    }\n",
       "\n",
       "    .dataframe tbody tr th {\n",
       "        vertical-align: top;\n",
       "    }\n",
       "\n",
       "    .dataframe thead th {\n",
       "        text-align: right;\n",
       "    }\n",
       "</style>\n",
       "<table border=\"1\" class=\"dataframe\">\n",
       "  <thead>\n",
       "    <tr style=\"text-align: right;\">\n",
       "      <th></th>\n",
       "      <th>sms</th>\n",
       "      <th>cluster_id</th>\n",
       "      <th>cluster_points</th>\n",
       "      <th>bank</th>\n",
       "      <th>unique_template_id</th>\n",
       "      <th>new_sms</th>\n",
       "      <th>label</th>\n",
       "    </tr>\n",
       "  </thead>\n",
       "  <tbody>\n",
       "    <tr>\n",
       "      <th>551</th>\n",
       "      <td>Open Zero Balance A/c with Kotak Mahindra Bank...</td>\n",
       "      <td>1</td>\n",
       "      <td>1649</td>\n",
       "      <td>CSHBCK</td>\n",
       "      <td>CSHBCK_1</td>\n",
       "      <td>open zero balance a/c with kotak mahindra ban...</td>\n",
       "      <td>[其他]</td>\n",
       "    </tr>\n",
       "    <tr>\n",
       "      <th>552</th>\n",
       "      <td>Your Kotak Savings Account Here. Open: http://...</td>\n",
       "      <td>0</td>\n",
       "      <td>1473</td>\n",
       "      <td>CSHBCK</td>\n",
       "      <td>CSHBCK_0</td>\n",
       "      <td>your kotak savings account here. open: http:/...</td>\n",
       "      <td>[其他]</td>\n",
       "    </tr>\n",
       "  </tbody>\n",
       "</table>\n",
       "</div>"
      ],
      "text/plain": [
       "                                                   sms cluster_id  \\\n",
       "551  Open Zero Balance A/c with Kotak Mahindra Bank...          1   \n",
       "552  Your Kotak Savings Account Here. Open: http://...          0   \n",
       "\n",
       "    cluster_points    bank unique_template_id  \\\n",
       "551           1649  CSHBCK           CSHBCK_1   \n",
       "552           1473  CSHBCK           CSHBCK_0   \n",
       "\n",
       "                                               new_sms label  \n",
       "551   open zero balance a/c with kotak mahindra ban...  [其他]  \n",
       "552   your kotak savings account here. open: http:/...  [其他]  "
      ]
     },
     "execution_count": 22,
     "metadata": {},
     "output_type": "execute_result"
    }
   ],
   "source": [
    "top_10_df.head(2)"
   ]
  },
  {
   "cell_type": "code",
   "execution_count": 23,
   "metadata": {},
   "outputs": [
    {
     "name": "stdout",
     "output_type": "stream",
     "text": [
      "processing sentence num:0\n",
      "new_instance: dear customer your account xxxxxx4067 is credited with 281. 00 for refund. updated balance 603. 04. queries write to us at http://m. p-y. tm/care\n",
      "\n",
      "此短信来自于模版:PAYTMB_28\n",
      "\n",
      "元组第三个代表模版ID:(0.6079242253336752, '流水-转入', 'PAYTMB_28')\n"
     ]
    },
    {
     "name": "stderr",
     "output_type": "stream",
     "text": [
      "/home/tigergraph/test1/lib/python3.5/site-packages/ipykernel_launcher.py:51: SettingWithCopyWarning: \n",
      "A value is trying to be set on a copy of a slice from a DataFrame.\n",
      "Try using .loc[row_indexer,col_indexer] = value instead\n",
      "\n",
      "See the caveats in the documentation: http://pandas.pydata.org/pandas-docs/stable/indexing.html#indexing-view-versus-copy\n"
     ]
    },
    {
     "data": {
      "text/plain": [
       "'流水-转入'"
      ]
     },
     "execution_count": 23,
     "metadata": {},
     "output_type": "execute_result"
    }
   ],
   "source": [
    "new_instances = get_samples(top_10_bank)\n",
    "showClfResult(new_instances, top_10_df)"
   ]
  },
  {
   "cell_type": "markdown",
   "metadata": {},
   "source": [
    "#### 错误识别， 模版补充， 重新训练；"
   ]
  },
  {
   "cell_type": "code",
   "execution_count": 77,
   "metadata": {},
   "outputs": [
    {
     "name": "stdout",
     "output_type": "stream",
     "text": [
      "processing sentence num:0\n",
      " dear customer you have received rs. 5020. 00 via imps in your account xxxxxxxx5993 from bheemavarapu manoj k (xxxxxx5993). ref no: 823009082098. queries write to us at http://m. p-y. tm/care\n",
      "\n",
      "元组第三个代表模版ID:(0.49210635006764225, '流水-转出', 'PAYTMB_2')\n"
     ]
    },
    {
     "name": "stderr",
     "output_type": "stream",
     "text": [
      "/usr/local/lib/python3.6/dist-packages/ipykernel_launcher.py:24: SettingWithCopyWarning: \n",
      "A value is trying to be set on a copy of a slice from a DataFrame.\n",
      "Try using .loc[row_indexer,col_indexer] = value instead\n",
      "\n",
      "See the caveats in the documentation: http://pandas.pydata.org/pandas-docs/stable/indexing.html#indexing-view-versus-copy\n"
     ]
    },
    {
     "data": {
      "text/plain": [
       "'流水-转出'"
      ]
     },
     "execution_count": 77,
     "metadata": {},
     "output_type": "execute_result"
    }
   ],
   "source": [
    "sms_try = 'dear customer you have received rs. 5020. 00 via imps in your account xxxxxxxx5993 from bheemavarapu manoj k (xxxxxx5993). ref no: 823009082098. queries write to us at http://m. p-y. tm/care'\n",
    "\n",
    "showClfResult(sms_try, top_10_df)\n"
   ]
  },
  {
   "cell_type": "code",
   "execution_count": 82,
   "metadata": {},
   "outputs": [
    {
     "data": {
      "text/plain": [
       "[\"['其他']\",\n",
       " \"['贷前申请＿审核通过']\",\n",
       " '流水转出确认支付密码',\n",
       " \"['流水-转出']\",\n",
       " \"['流水-转入']\",\n",
       " \"['账号异常＿余额不足']\",\n",
       " \"['账号异常＿扣款失败']\"]"
      ]
     },
     "execution_count": 82,
     "metadata": {},
     "output_type": "execute_result"
    }
   ],
   "source": [
    "top_10_df.label.astype(str).unique().tolist()"
   ]
  },
  {
   "cell_type": "code",
   "execution_count": 83,
   "metadata": {},
   "outputs": [],
   "source": [
    "labels = [i[0] if isinstance(i, list) else i for i in top_10_df.label]\n",
    "top_10_df.label = labels"
   ]
  },
  {
   "cell_type": "code",
   "execution_count": 91,
   "metadata": {},
   "outputs": [
    {
     "data": {
      "text/plain": [
       "['贷前申请＿审核通过', '流水转出确认支付密码', '流水-转出', '流水-转入', '账号异常＿余额不足', '账号异常＿扣款失败']"
      ]
     },
     "execution_count": 91,
     "metadata": {},
     "output_type": "execute_result"
    }
   ],
   "source": [
    "top_10_df[top_10_df.label!='其他'].label.unique().tolist()"
   ]
  },
  {
   "cell_type": "code",
   "execution_count": 2,
   "metadata": {},
   "outputs": [
    {
     "ename": "NameError",
     "evalue": "name 'top_10_df' is not defined",
     "output_type": "error",
     "traceback": [
      "\u001b[0;31m-----------------------------------------------------------\u001b[0m",
      "\u001b[0;31mNameError\u001b[0m                 Traceback (most recent call last)",
      "\u001b[0;32m<ipython-input-2-e199583c34b6>\u001b[0m in \u001b[0;36m<module>\u001b[0;34m\u001b[0m\n\u001b[0;32m----> 1\u001b[0;31m \u001b[0mtop_10_df\u001b[0m\u001b[0;34m\u001b[0m\u001b[0m\n\u001b[0m",
      "\u001b[0;31mNameError\u001b[0m: name 'top_10_df' is not defined"
     ]
    }
   ],
   "source": [
    "top_10_df"
   ]
  },
  {
   "cell_type": "code",
   "execution_count": null,
   "metadata": {},
   "outputs": [],
   "source": [
    "Rs 2720.00 \n",
    "date\n",
    "bal"
   ]
  },
  {
   "cell_type": "markdown",
   "metadata": {},
   "source": [
    "#### \n",
    "\n",
    "NER 添加集\n",
    "\n",
    "NER 已经训练集"
   ]
  },
  {
   "cell_type": "code",
   "execution_count": 98,
   "metadata": {},
   "outputs": [],
   "source": [
    "to_add = top_10_df[~top_10_df.label.isin(['其他', '贷前申请＿审核通过'])]"
   ]
  },
  {
   "cell_type": "code",
   "execution_count": 101,
   "metadata": {},
   "outputs": [
    {
     "name": "stdout",
     "output_type": "stream",
     "text": [
      "file is processing and will be saved in:/data-0/tigergraph/NER_bank_to_add.txt\n",
      "processing sentence num:0\n",
      " sbiotp_0 173075 is your one time password for online purchase of rs 2720. 00 at moto tpsl thru state bank debit card ending 1065. don't share this with anyone\n",
      "\n",
      " paytmb_2 dear customer you have sent rs. 1300. 00 via imps from your account xxxxxx1370 to andhra bankaccount xxxxxx4629. ref no: 821621603528. queries write to us at http://m. p-y. tm/care\n",
      "\n",
      " paytmb_1 dear customer you have sent rs. 429. 00 to add-money@paytm from your paytm bank savings account xxxxxxxx1370. upi reference: 822919722228. queries write to us at http://m. p-y. tm/care\n",
      "\n",
      " paytmb_5 dear customer you have paid rs. 16. 00 via your paytm bank account xxxxxx1370 at paytm on 13-08-2018 at 18:45:45. updated balance: 36. 03. queries write to us at http://m. p-y. tm/care\n",
      "\n",
      " paytmb_4 you have received rs. 90. 00 in your savings account xxxxxx9261 via sbi debit card. queries write to us at http://m. p-y. tm/care\n",
      "\n",
      " paytmb_3 dear customer you have paid rs. 14. 00 using paytm rupay debit card at pasfar technologies p lgurgaon hrin on 16-9-2018. updated balance: 5. 88.\n",
      "\n",
      " paytmb_0 razorpay has requested rs. 672. 00 from you. tap here to view the request: http://m. p-y. tm/upipas please ignore if you are unaware of this request.\n",
      "\n",
      " paytmb_12 dear customer rs. 100. 00 was withdrawn using your paytm rupay debit card linked to your account xxxxxxxx9261 at +itc infotech oatm bangalore-urbkain on 26-9-2018. updated balance: 30. 17. queries write to us at http://m. p-y. tm/care\n",
      "\n",
      " paytmb_13 dear customer withdrawal of rs. 500. 00 at goel enclave opp bbde f has failed due to insufficient funds in your savings account 9178xxxx9873. please note that your debit card can be used against your savings account balance only. queries write to us at http://m. p-y. tm/care\n",
      "\n",
      " paytmb_20 dear customer rs. 20. 00 has been charged for the transaction at booth no. 10 sec. 42 c chandigarh chin on 30-9-2018 as the monthly limit of free transactions is exceeded. updated balance: 489. 88.\n",
      "\n",
      " paytmb_22 dear customer rs. 1. 00 has been added back to your paytm bank savings account as the transaction with upi reference 826015761356 had failed. queries write to us at http://m. p-y. tm/care\n",
      "\n",
      " paytmb_28 dear customer your account xxxxxx6296 is credited with 20. 00 for refund. updated balance 74. 70. queries write to us at http://m. p-y. tm/care\n",
      "\n",
      " bobtxn_2 rs. 131237 is debited to a/c . . . 0523 on 07-09-18 16:03:36 (avlbl bal rs. -131255) by neft ref:barby18250146418. tollfree 1800223344 18001024455 (24x7)\n",
      "\n",
      " bobtxn_0 rs. 4493 is credited to a/c . . . 4645 on 24-09-18 11:46:50 (avlbl bal rs. 4498. 51) at mumbai main office mumbai. stay updated with your txns. get mobile banking app http://bit. ly/mconnect2\n",
      "\n",
      " atmsbi_1 thank you for using your sbi debit card 521xx1065 for a purchase worth rs 100  0 on pos 02500010445 at satha fuel point txn# 001256233371. if not done by you forward this sms from mobile number registered with sbi to 9223008333 to block your card. you may also call 1-800-111109\n",
      "\n",
      " atmsbi_0 rs 1500 w/d at sbi atm s5ne070383621 sbipeyad trivandrum fm a/cx2308on05/09/18. txn#6379. avl bal rs 5845  66. if not done by you forward this sms from mobile number registered with sbi to 9223008333 to block your card. you may also call 1-800-111109. download yono @ www. yonosbi. com\n",
      "\n",
      " atmsbi_5 thank you for using your sbi debit card 607xx7494 for a purchase worth rs 200  0 on pos 4799105m000 at sree ranganatha servic txn# 730407273261.\n",
      "\n",
      " atmsbi_10 dear customer your transaction at pos 02pl0034582 has been declined due to insufficient fund in your account.\n",
      "\n",
      " atmsbi_12 rs 5000 withdrawn at sbi atm fbbx003917029 koratagere koratagere from a/c xxxx 5703 on 021017. txn#9646 . avl bal rs 99022. 17. free sbi atm txns if mab>25000.\n",
      "\n",
      " umobil_1 your a/c no. xxxxxxxx1030 is debited for rs. 1542. 06 on 16-09-18 (upi ref no 825915834227)\n",
      "\n",
      " umobil_0 your a/c no. xxxxxxxx7153 is debited for rs. 1 500. 00 on 07-10-18 and a/c xxxxxxx924 credited (imps ref no 828015660890)\n",
      "\n",
      " umobil_14 dear customer your virtual id shankar. sep12@unionbankofindia linked to a/c no. xxxxxxxx0852 is debited for rs. 1500. 00 on 04-10-18 (upi ref no 827711561415)\n",
      "\n",
      " umobil_15 your a/c no. xxxxxxxx9012 is credited for rs. 10. 00 on 03-10-18 for reversal of transaction (upi ref no 827609627024)\n",
      "\n",
      " sbiupi_0 dear sbi upi user your account is credited inr 151. 00 on date 2018-08-29 10:09:36 am by upi ref no 824110601508\n",
      "\n"
     ]
    }
   ],
   "source": [
    "Final_Train_cleaned = '/data-0/tigergraph/NER_bank_to_add.txt'\n",
    "with open(Final_Train_cleaned, 'w') as fnew:\n",
    "    text = to_add.sms.values.tolist()\n",
    "    unique_template_id = to_add.unique_template_id.values.tolist()\n",
    "    print('file is processing and will be saved in:{}'.format(Final_Train_cleaned))\n",
    "    for idx, tup in enumerate(zip(text,unique_template_id)):\n",
    "        single, id_ = tup[0], tup[1]\n",
    "        if idx % 50000 == 0:\n",
    "            print('processing sentence num:{}'.format(idx))\n",
    "        sentence = id_ + ' ' + ''.join(single)\n",
    "        sentence = sentence.replace('?', ' ')\n",
    "        sentence = sentence.replace('!', ' ')\n",
    "        text2 = sentence.replace(',', ' ')\n",
    "        text3 = text2.replace('.', '. ')\n",
    "        text4 = [w.lower() for w in text3.split()]\n",
    "        text4 = [re.search('^rs\\.?', s).group(0) + re.sub('[rs.]+',' ',s) \n",
    "                 if re.search('^rs\\.?[0-9]', s) else s for s in text4]\n",
    "        final_sent = ' '.join(text4)\n",
    "        fin = final_sent.join(' \\n')\n",
    "        fnew.write(fin)"
   ]
  },
  {
   "cell_type": "markdown",
   "metadata": {},
   "source": [
    "### 看到没， 每个句子前面有 cluster id, 在测试的时候也可以添加上！"
   ]
  },
  {
   "cell_type": "code",
   "execution_count": null,
   "metadata": {},
   "outputs": [],
   "source": [
    "a/c \n",
    "Rs 1500.00\n",
    "05-10-18\n",
    "bal: \n",
    "balance\n",
    "curr o/s\n",
    "Card ending 2200\n",
    "creditcard 6950\n",
    "\n",
    "credited to\n",
    "credited with\n",
    "deposited in\n",
    "debited from\n",
    "debited for\n",
    "withdrawn\n",
    "transfer\n",
    "\n",
    "registration\n",
    "otp"
   ]
  },
  {
   "cell_type": "code",
   "execution_count": 131,
   "metadata": {},
   "outputs": [
    {
     "data": {
      "text/plain": [
       "[' sent_id_30 verification code for your application is 596154. this code is only for your identity verification purpose.\\n',\n",
       " ' sent_id_31 dear hdfcbank cardmember payment of rs 21350 was credited to your card ending 6367 on 08/sep/2018.\\n',\n",
       " ' sent_id_32 take control of your bill payments with hdfc bank billpay. register & pay bills for 250+ billers automatically and get rewarded too. visit: login to netbanking>billpay&recharge. click: hdfcbk. net/o3w4v6m\\n',\n",
       " ' sent_id_33 363776 is secret one time password (otp) for netbanking third party fund transfer registration. do not share it with anyone.\\n',\n",
       " ' sent_id_34 041926 is your secret otp to add payee remani vijayan a/c no ending in 408 for fundstransfer. ref no. -xxxx9184. do not share it with anyone.\\n',\n",
       " ' sent_id_35 dear customer you have done 6 txns on non hdfc bank non metro atm till 7:30 pm on 31 jul 2018. check free txns eligibility on www. hdfcbank. com\\n',\n",
       " ' sent_id_36 otp is 754047 for ivr/online trxn on your hdfc bank card 6950 and valid till 20:1 hrs. do not share this otp to anyone for security reasons\\n',\n",
       " ' sent_id_37 one time password(otp) for hdfc bank credit card ending with 6267 is 220582. pls use this otp at hdfc bank atm (language selection screen)to create your atm pin before 25oct18.\\n',\n",
       " ' sent_id_38 your otp for adding saiteja pemmaraju a/c ending 552 as beneficiary for funds transfer is 281067. please do not share otp as it is confidential.\\n',\n",
       " \" sent_id_39 let's help kerala. here are 3 ways to contribute to kerala chief minister's distress relief fund via hdfc bank. to know more hdfcbank. com/kerala\\n\",\n",
       " ' sent_id_40 your otp is 328986. do not share your otp with anyone\\n',\n",
       " ' sent_id_41 inr 8 000. 00 deposited to a/c no xx0631 towards imps-727722558832-raja gopal maddu-hdfc-xxxxxxxx5251-ft val 04-oct-17. clr bal is inr 8 242. 08 subject to clearing.\\n',\n",
       " ' sent_id_42 dear hdfc bank card member rs . 75 has been credited on your credit card ending 6950 from sri varshath bangalore ind on 12/aug/2018.\\n',\n",
       " ' sent_id_43 never miss out on a call. recharge via missed call on 7308080808 or through the hdfc bank lite app. click: onelink. to/liteapp to download lite app\\n',\n",
       " ' sent_id_44 you have added/modified a beneficiary remani vijayan to hdfc bank netbanking for online transfer funds through neft/rtgs/imps.\\n',\n",
       " ' sent_id_45 you have added a/c ******7862 in your hdfc bank upi app.\\n',\n",
       " ' sent_id_46 dear customer a/c xxx4635 charged rs. 600 for non maintenance in aug 18. pls maintain req bal to avoid charges. for details visit branch/netbanking/website\\n',\n",
       " ' sent_id_47 update: your a/c xx0341 is debited for inr 7 000. 00 on 01-08-18 & a/c xxxxxxxx8479 is credited (imps ref no. 821321311984). available bal:inr 53. 50\\n',\n",
       " \" sent_id_48 is #rakshabandhan only about 'protecting' your sister or it has a larger meaning let's truly understand her world. watch resu. io/bwa5ct6l8z5i #rakshamatlabroknahi\\n\",\n",
       " ' sent_id_49 never worry about bill due dates again register & pay bills via hdfc bank smartpay using your hdfc bank credit card ending xx3909. visit bit. ly/smartpay8 > cards> credit cards > transact > smartpay *t&c\\n']"
      ]
     },
     "execution_count": 131,
     "metadata": {},
     "output_type": "execute_result"
    }
   ],
   "source": [
    "temp[30:50]"
   ]
  },
  {
   "cell_type": "markdown",
   "metadata": {},
   "source": [
    "### 下午看看 gt 原理"
   ]
  },
  {
   "cell_type": "code",
   "execution_count": null,
   "metadata": {},
   "outputs": [],
   "source": [
    "    g = gt.Graph()\n",
    "    for file in glob.glob('{}/*'.format(group_dir)):\n",
    "        if file.split('_')[-1] != '0':\n",
    "            df = pd.read_csv(file, header=None)\n",
    "            g.add_edge_list(df[[0, 1]].values)\n",
    "\n",
    "    print(\"n_vertices in graph: {}\".format(g.num_vertices()))\n",
    "\n",
    "    print(\"finding connect components...\")\n",
    "    comp, hist = gt.label_components(g, directed=False)\n",
    "    hist_dict = dict(enumerate(hist))"
   ]
  }
 ],
 "metadata": {
  "celltoolbar": "Tags",
  "kernelspec": {
   "display_name": "Python 3",
   "language": "python",
   "name": "python3"
  },
  "language_info": {
   "codemirror_mode": {
    "name": "ipython",
    "version": 3
   },
   "file_extension": ".py",
   "mimetype": "text/x-python",
   "name": "python",
   "nbconvert_exporter": "python",
   "pygments_lexer": "ipython3",
   "version": "3.5.2"
  }
 },
 "nbformat": 4,
 "nbformat_minor": 2
}
