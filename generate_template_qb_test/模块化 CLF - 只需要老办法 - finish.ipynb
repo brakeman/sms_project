{
 "cells": [
  {
   "cell_type": "code",
   "execution_count": 1,
   "metadata": {},
   "outputs": [],
   "source": [
    "import pandas as pd\n",
    "import numpy as np\n",
    "import random\n",
    "import re\n",
    "import json\n",
    "import warnings\n",
    "warnings.filterwarnings(\"ignore\")\n",
    "from sklearn.feature_extraction.text import CountVectorizer\n",
    "from sklearn.feature_extraction.text import TfidfTransformer\n",
    "from numpy import dot\n",
    "from numpy.linalg import norm"
   ]
  },
  {
   "cell_type": "code",
   "execution_count": 2,
   "metadata": {},
   "outputs": [],
   "source": [
    "def get_cos_similarity(sms, templates):\n",
    "    '''计算一条新sms 与 每个template 相似度'''\n",
    "    def cos_sim(a, b):\n",
    "        return dot(a, b) / (norm(a) * norm(b))\n",
    "    return [cos_sim(i, sms) for i in templates]\n",
    "\n",
    "\n",
    "def tfIdfVector(corpus):\n",
    "    '''corpus is a list of sentences:\n",
    "    ['This is an example', 'hello world', ...]\n",
    "    '''\n",
    "    vectorizer = CountVectorizer()\n",
    "    transformer = TfidfTransformer()\n",
    "    x = vectorizer.fit_transform(corpus)\n",
    "    tfidf = transformer.fit_transform(x)\n",
    "    return tfidf.toarray()\n",
    "\n",
    "\n",
    "class SmsRuleClf:\n",
    "    '''模块功能: 给我一个(组)sms， 能够对其正确分类'''\n",
    "    def __init__(self, labeled_templates_df):\n",
    "        self.labeled_templates_df = labeled_templates_df\n",
    "        self.corpus, self.labels = self._get_template_corpus_labels()\n",
    "        \n",
    "    def _get_template_corpus_labels(self):\n",
    "        corpus, labels = self.labeled_templates_df.sms.tolist(), self.labeled_templates_df.label.tolist()\n",
    "        return corpus, labels\n",
    "\n",
    "    def predict(self, sms):\n",
    "        '''\n",
    "        Input: ['This is an example', 'hello world', ...]\n",
    "        Output: [cls1, cls2, ...]\n",
    "        '''\n",
    "        if isinstance(sms, list) and isinstance(sms[0], str):\n",
    "            template_corpus, template_labels = self.corpus, self.labels\n",
    "            num_sms = len(sms)\n",
    "            for single in sms:\n",
    "                template_corpus.append(single.lower())\n",
    "            all_tfidf = tfIdfVector(template_corpus)\n",
    "            template_tfidf = all_tfidf[:-num_sms]\n",
    "            instances_tfidf = all_tfidf[-num_sms:]\n",
    "            \n",
    "            result = []\n",
    "            for idx, single_sms in enumerate(instances_tfidf):  \n",
    "                cos_score = get_cos_similarity(single_sms, template_tfidf)\n",
    "                max_score = np.max(cos_score)\n",
    "                label = template_labels[np.argmax(cos_score)]\n",
    "                result.append([sms[idx], label, max_score])\n",
    "            return result\n",
    "        else:\n",
    "            raise Exception('''sms type not allowed: should be with type: ['This is an example', 'hello world', ...]''')"
   ]
  },
  {
   "cell_type": "code",
   "execution_count": 3,
   "metadata": {},
   "outputs": [],
   "source": [
    "gsm_templates_df = pd.read_csv('gsm_templates_df.csv')\n",
    "example = gsm_templates_df.sample(n=5).sms.tolist()\n",
    "clf = SmsRuleClf(gsm_templates_df)\n",
    "clf.predict(example)"
   ]
  },
  {
   "cell_type": "code",
   "execution_count": null,
   "metadata": {},
   "outputs": [],
   "source": []
  }
 ],
 "metadata": {
  "kernelspec": {
   "display_name": "Python 3",
   "language": "python",
   "name": "python3"
  },
  "language_info": {
   "codemirror_mode": {
    "name": "ipython",
    "version": 3
   },
   "file_extension": ".py",
   "mimetype": "text/x-python",
   "name": "python",
   "nbconvert_exporter": "python",
   "pygments_lexer": "ipython3",
   "version": "3.5.2"
  }
 },
 "nbformat": 4,
 "nbformat_minor": 2
}
