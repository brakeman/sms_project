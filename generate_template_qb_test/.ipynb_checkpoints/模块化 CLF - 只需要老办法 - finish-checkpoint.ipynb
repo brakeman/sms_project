{
 "cells": [
  {
   "cell_type": "code",
   "execution_count": 1,
   "metadata": {},
   "outputs": [],
   "source": [
    "import pandas as pd\n",
    "import numpy as np\n",
    "import random\n",
    "import re\n",
    "import json\n",
    "import warnings\n",
    "warnings.filterwarnings(\"ignore\")\n",
    "from sklearn.feature_extraction.text import CountVectorizer\n",
    "from sklearn.feature_extraction.text import TfidfTransformer\n",
    "from numpy import dot\n",
    "from numpy.linalg import norm"
   ]
  },
  {
   "cell_type": "code",
   "execution_count": 2,
   "metadata": {},
   "outputs": [],
   "source": [
    "def get_cos_similarity(sms, templates):\n",
    "    '''计算一条新sms 与 每个template 相似度'''\n",
    "    def cos_sim(a, b):\n",
    "        return dot(a, b) / (norm(a) * norm(b))\n",
    "    return [cos_sim(i, sms) for i in templates]\n",
    "\n",
    "\n",
    "def tfIdfVector(corpus):\n",
    "    '''corpus is a list of sentences:\n",
    "    ['This is an example', 'hello world', ...]\n",
    "    '''\n",
    "    vectorizer = CountVectorizer()\n",
    "    transformer = TfidfTransformer()\n",
    "    x = vectorizer.fit_transform(corpus)\n",
    "    tfidf = transformer.fit_transform(x)\n",
    "    return tfidf.toarray()\n",
    "\n",
    "\n",
    "class SmsRuleClf:\n",
    "    '''模块功能: 给我一个(组)sms， 能够对其正确分类'''\n",
    "    def __init__(self, labeled_templates_df):\n",
    "        self.labeled_templates_df = labeled_templates_df\n",
    "        self.corpus, self.labels = self._get_template_corpus_labels()\n",
    "        \n",
    "    def _get_template_corpus_labels(self):\n",
    "        corpus, labels = self.labeled_templates_df.sms.tolist(), self.labeled_templates_df.label.tolist()\n",
    "        return corpus, labels\n",
    "\n",
    "    def predict(self, sms):\n",
    "        '''\n",
    "        Input: ['This is an example', 'hello world', ...]\n",
    "        Output: [cls1, cls2, ...]\n",
    "        '''\n",
    "        if isinstance(sms, list) and isinstance(sms[0], str):\n",
    "            template_corpus, template_labels = self.corpus, self.labels\n",
    "            num_sms = len(sms)\n",
    "            for single in sms:\n",
    "                template_corpus.append(single.lower())\n",
    "            all_tfidf = tfIdfVector(template_corpus)\n",
    "            template_tfidf = all_tfidf[:-num_sms]\n",
    "            instances_tfidf = all_tfidf[-num_sms:]\n",
    "            \n",
    "            result = []\n",
    "            for idx, single_sms in enumerate(instances_tfidf):  \n",
    "                cos_score = get_cos_similarity(single_sms, template_tfidf)\n",
    "                max_score = np.max(cos_score)\n",
    "                label = template_labels[np.argmax(cos_score)]\n",
    "                result.append([sms[idx], label, max_score])\n",
    "            return result\n",
    "        else:\n",
    "            raise Exception('''sms type not allowed: should be with type: ['This is an example', 'hello world', ...]''')"
   ]
  },
  {
   "cell_type": "code",
   "execution_count": 3,
   "metadata": {},
   "outputs": [],
   "source": [
    "gsm_templates_df = pd.read_csv('gsm_templates_df.csv')"
   ]
  },
  {
   "cell_type": "code",
   "execution_count": 4,
   "metadata": {},
   "outputs": [],
   "source": [
    "example = gsm_templates_df.sample(n=5).sms.tolist()"
   ]
  },
  {
   "cell_type": "code",
   "execution_count": 5,
   "metadata": {},
   "outputs": [
    {
     "data": {
      "text/plain": [
       "[['thank you for the payment of rs 4000 for kotak card no xxxx6359 received through online transfer (neft) on 17-sep-2018',\n",
       "  '交易流水＿转账',\n",
       "  1.0],\n",
       " ['your a/c no. xxxxxxxx3850 is credited for rs.4493.00 on 24-09-18 by a/c linked to mobile xxxxxxx999 (imps ref no 826714684723).',\n",
       "  '交易流水＿转账',\n",
       "  1.0],\n",
       " ['your a/c 191061 is credited inr 47500.00 on 28-09-2018 10:35:18 a/c balance is inr 48107.97 info: bna-deposit/axis bank limited/west delhi/paschim vihar',\n",
       "  '交易流水＿转账',\n",
       "  1.0],\n",
       " ['your a/c no. xxxxxxxxx2755 is debited for rs.500.00 on 09-09-18 and a/c xxxxxxxxxx328 credited (imps ref no 825211400818).',\n",
       "  '交易流水＿转账',\n",
       "  1.0000000000000002],\n",
       " ['boi - rs 813.00 credited in your ac xx6116 on 27-09-2018 by neftinward n270180152294326 .avl bal 839.82 pls link aadhaar to a/c, if not linked.',\n",
       "  '交易流水＿转账',\n",
       "  1.0]]"
      ]
     },
     "execution_count": 5,
     "metadata": {},
     "output_type": "execute_result"
    }
   ],
   "source": [
    "clf = SmsRuleClf(gsm_templates_df)\n",
    "clf.predict(example)"
   ]
  },
  {
   "cell_type": "code",
   "execution_count": null,
   "metadata": {},
   "outputs": [],
   "source": []
  }
 ],
 "metadata": {
  "kernelspec": {
   "display_name": "Python 3",
   "language": "python",
   "name": "python3"
  },
  "language_info": {
   "codemirror_mode": {
    "name": "ipython",
    "version": 3
   },
   "file_extension": ".py",
   "mimetype": "text/x-python",
   "name": "python",
   "nbconvert_exporter": "python",
   "pygments_lexer": "ipython3",
   "version": "3.5.2"
  }
 },
 "nbformat": 4,
 "nbformat_minor": 2
}
