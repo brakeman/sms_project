{
 "cells": [
  {
   "cell_type": "code",
   "execution_count": 1,
   "metadata": {},
   "outputs": [],
   "source": [
    "from ClfTemplates import get_all_template_path,sample_template,sample_template_path\n",
    "from ClfUse import showClfResult, get_samples, labeledDataFromJson"
   ]
  },
  {
   "cell_type": "code",
   "execution_count": 2,
   "metadata": {},
   "outputs": [
    {
     "name": "stdout",
     "output_type": "stream",
     "text": [
      "total templates among all the banks:1641\n"
     ]
    },
    {
     "name": "stderr",
     "output_type": "stream",
     "text": [
      "/home/tigergraph/test1/lib/python3.5/site-packages/ipykernel_launcher.py:13: SettingWithCopyWarning: \n",
      "A value is trying to be set on a copy of a slice from a DataFrame.\n",
      "Try using .loc[row_indexer,col_indexer] = value instead\n",
      "\n",
      "See the caveats in the documentation: http://pandas.pydata.org/pandas-docs/stable/indexing.html#indexing-view-versus-copy\n",
      "  del sys.path[0]\n",
      "/home/tigergraph/test1/lib/python3.5/site-packages/ipykernel_launcher.py:21: SettingWithCopyWarning: \n",
      "A value is trying to be set on a copy of a slice from a DataFrame.\n",
      "Try using .loc[row_indexer,col_indexer] = value instead\n",
      "\n",
      "See the caveats in the documentation: http://pandas.pydata.org/pandas-docs/stable/indexing.html#indexing-view-versus-copy\n"
     ]
    }
   ],
   "source": [
    "banklist = ['SBIUPI', 'SBIOTP', 'KOTKBK', 'MYACCT', 'BOBTXN',\n",
    "            'RBISAY', 'CSHBCK', 'ATMSBI', 'UMOBIL', 'PAYTMB']\n",
    "\n",
    "template = '/data-0/tigergraph/template'\n",
    "all_templates = get_all_template_path(template_dir = template)\n",
    "sampled_template_path = sample_template_path(all_templates)\n",
    "sampled_template_df = sample_template(sampled_template_path)\n",
    "\n",
    "# 全部银行模版中，只取top10打标签；\n",
    "count_bank = sampled_template_df.groupby('bank').count()\n",
    "top_10_bank = count_bank.sort_values(by ='sms').head(10).index.tolist()\n",
    "top_10_sampled_template_df = sampled_template_df[sampled_template_df.bank.isin(top_10_bank)]\n",
    "top_10_sampled_template_df['unique_template_id'] = top_10_sampled_template_df.bank + '_' + top_10_sampled_template_df.cluster_id\n",
    "\n",
    "# top10打标签结果；\n",
    "top_10_train_path = '/home/qibo/项目2_sms/综合/bank-top-10-data/sms_top_10_bank.json'\n",
    "labeled_df = labeledDataFromJson(top_10_train_path)\n",
    "labeled_df.loc[labeled_df.label == 'error', 'label'] = ['流水转出确认支付密码']\n",
    "\n",
    "# 拼接到一起；\n",
    "top_10_sampled_template_df['label'] = labeled_df.label.tolist()"
   ]
  },
  {
   "cell_type": "markdown",
   "metadata": {},
   "source": [
    "### 看结果"
   ]
  },
  {
   "cell_type": "code",
   "execution_count": 32,
   "metadata": {},
   "outputs": [
    {
     "name": "stdout",
     "output_type": "stream",
     "text": [
      "processing sentence num:0\n",
      "new_instance: dear customer payment of rs. 1522. 00 at krazybee has failed due to insufficient funds in your savings account 9196xxxx0511. please note that your debit card can be used against your savings account balance only. queries write to us at http://m. p-y. tm/care\n",
      "\n",
      "此短信来自于模版:PAYTMB_13\n",
      "\n",
      "元组第三个代表模版ID:(0.7760956868294503, '账号异常＿余额不足', 'PAYTMB_13')\n"
     ]
    },
    {
     "data": {
      "text/plain": [
       "'账号异常＿余额不足'"
      ]
     },
     "execution_count": 32,
     "metadata": {},
     "output_type": "execute_result"
    }
   ],
   "source": [
    "sms = get_samples(banklist, sampled_template_path)\n",
    "showClfResult(sms, top_10_sampled_template_df)"
   ]
  },
  {
   "cell_type": "code",
   "execution_count": 14,
   "metadata": {},
   "outputs": [
    {
     "data": {
      "text/plain": [
       "True"
      ]
     },
     "execution_count": 14,
     "metadata": {},
     "output_type": "execute_result"
    }
   ],
   "source": [
    "all_temp = top_10_sampled_template_df.unique_template_id.tolist()\n",
    "'PAYTMB_2' in all_temp"
   ]
  },
  {
   "cell_type": "markdown",
   "metadata": {},
   "source": [
    "#### 错误识别， 模版补充， 重新训练；"
   ]
  },
  {
   "cell_type": "code",
   "execution_count": 6,
   "metadata": {},
   "outputs": [
    {
     "name": "stdout",
     "output_type": "stream",
     "text": [
      "processing sentence num:0\n",
      " dear customer you have received rs. 5020. 00 via imps in your account xxxxxxxx5993 from bheemavarapu manoj k (xxxxxx5993). ref no: 823009082098. queries write to us at http://m. p-y. tm/care\n",
      "\n",
      "元组第三个代表模版ID:(0.49210635006764225, '流水-转出', 'PAYTMB_2')\n"
     ]
    },
    {
     "data": {
      "text/plain": [
       "'流水-转出'"
      ]
     },
     "execution_count": 6,
     "metadata": {},
     "output_type": "execute_result"
    }
   ],
   "source": [
    "sms_try = 'dear customer you have received rs. 5020. 00 via imps in your account xxxxxxxx5993 from bheemavarapu manoj k (xxxxxx5993). ref no: 823009082098. queries write to us at http://m. p-y. tm/care'\n",
    "\n",
    "showClfResult(sms_try, top_10_sampled_template_df)"
   ]
  }
 ],
 "metadata": {
  "celltoolbar": "Tags",
  "kernelspec": {
   "display_name": "Python 3",
   "language": "python",
   "name": "python3"
  },
  "language_info": {
   "codemirror_mode": {
    "name": "ipython",
    "version": 3
   },
   "file_extension": ".py",
   "mimetype": "text/x-python",
   "name": "python",
   "nbconvert_exporter": "python",
   "pygments_lexer": "ipython3",
   "version": "3.5.2"
  }
 },
 "nbformat": 4,
 "nbformat_minor": 2
}
