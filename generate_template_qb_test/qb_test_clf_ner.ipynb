{
 "cells": [
  {
   "cell_type": "code",
   "execution_count": 2,
   "metadata": {},
   "outputs": [],
   "source": [
    "from ClfTemplates import get_all_template_path,sample_template,sample_template_path\n",
    "from ClfUse import showClfResult, get_samples, labeledDataFromJson,preprocess\n",
    "import warnings\n",
    "warnings.filterwarnings(\"ignore\")"
   ]
  },
  {
   "cell_type": "code",
   "execution_count": 2,
   "metadata": {},
   "outputs": [
    {
     "name": "stdout",
     "output_type": "stream",
     "text": [
      "total templates among all the banks:1641\n"
     ]
    }
   ],
   "source": [
    "\n",
    "banklist = ['SBIUPI', 'SBIOTP', 'KOTKBK', 'MYACCT', 'BOBTXN',\n",
    "            'RBISAY', 'CSHBCK', 'ATMSBI', 'UMOBIL', 'PAYTMB']\n",
    "\n",
    "template = '/data-0/tigergraph/template'\n",
    "all_templates = get_all_template_path(template_dir = template)\n",
    "sampled_template_path = sample_template_path(all_templates)\n",
    "sampled_template_df = sample_template(sampled_template_path,1)\n",
    "\n",
    "# 全部银行模版中，只取top10打标签；\n",
    "count_bank = sampled_template_df.groupby('bank').count()\n",
    "top_10_bank = count_bank.sort_values(by ='sms').head(10).index.tolist()\n",
    "top_10_sampled_template_df = sampled_template_df[sampled_template_df.bank.isin(top_10_bank)]\n",
    "top_10_sampled_template_df['unique_template_id'] = top_10_sampled_template_df.bank + '_' + top_10_sampled_template_df.cluster_id\n",
    "\n",
    "# top10打标签结果；\n",
    "top_10_train_path = '/home/qibo/项目2_sms/综合/bank-top-10-data/sms_top_10_bank.json'\n",
    "last_40_train_path = '/home/qibo/项目2_sms/综合/bank-top-10-data/last40bank.json'\n",
    "\n",
    "labeled_df = labeledDataFromJson(top_10_train_path)\n",
    "labeled_df.loc[labeled_df.label == 'error', 'label'] = ['流水转出确认支付密码']\n",
    "\n",
    "# 拼接到一起；\n",
    "top_10_sampled_template_df['label'] = labeled_df.label.tolist()\n"
   ]
  },
  {
   "cell_type": "code",
   "execution_count": 3,
   "metadata": {},
   "outputs": [
    {
     "name": "stdout",
     "output_type": "stream",
     "text": [
      "processing sentence num:0\n",
      "new_instance:Please click on below link to set paytm passcode http://m.p-y.tm/cpsc\n",
      "\n",
      "此短信来自于模版:PAYTMB_11\n",
      "\n",
      "元组第三个代表模版ID:(1.0, '其他', 'PAYTMB_11')\n"
     ]
    },
    {
     "data": {
      "text/plain": [
       "'其他'"
      ]
     },
     "execution_count": 3,
     "metadata": {},
     "output_type": "execute_result"
    }
   ],
   "source": [
    "sms = get_samples(banklist, sampled_template_path)\n",
    "showClfResult(sms, top_10_sampled_template_df)"
   ]
  },
  {
   "cell_type": "code",
   "execution_count": 14,
   "metadata": {},
   "outputs": [
    {
     "data": {
      "text/plain": [
       "True"
      ]
     },
     "execution_count": 14,
     "metadata": {},
     "output_type": "execute_result"
    }
   ],
   "source": [
    "all_temp = top_10_sampled_template_df.unique_template_id.tolist()\n",
    "'PAYTMB_2' in all_temp"
   ]
  },
  {
   "cell_type": "markdown",
   "metadata": {},
   "source": [
    "#### 错误识别， 模版补充， 重新训练；"
   ]
  },
  {
   "cell_type": "code",
   "execution_count": 6,
   "metadata": {},
   "outputs": [
    {
     "name": "stdout",
     "output_type": "stream",
     "text": [
      "processing sentence num:0\n",
      " dear customer you have received rs. 5020. 00 via imps in your account xxxxxxxx5993 from bheemavarapu manoj k (xxxxxx5993). ref no: 823009082098. queries write to us at http://m. p-y. tm/care\n",
      "\n",
      "元组第三个代表模版ID:(0.49210635006764225, '流水-转出', 'PAYTMB_2')\n"
     ]
    },
    {
     "data": {
      "text/plain": [
       "'流水-转出'"
      ]
     },
     "execution_count": 6,
     "metadata": {},
     "output_type": "execute_result"
    }
   ],
   "source": [
    "sms_try = 'dear customer you have received rs. 5020. 00 via imps in your account xxxxxxxx5993 from bheemavarapu manoj k (xxxxxx5993). ref no: 823009082098. queries write to us at http://m. p-y. tm/care'\n",
    "\n",
    "showClfResult(sms_try, top_10_sampled_template_df)"
   ]
  },
  {
   "cell_type": "markdown",
   "metadata": {},
   "source": [
    "### 周三下午； 打标签 银行remaining"
   ]
  },
  {
   "cell_type": "code",
   "execution_count": 4,
   "metadata": {},
   "outputs": [
    {
     "name": "stdout",
     "output_type": "stream",
     "text": [
      "total templates among all the banks:1641\n",
      "processing sentence num:0\n"
     ]
    }
   ],
   "source": [
    "from ClfTemplates import get_all_template_path,sample_template,sample_template_path\n",
    "from ClfUse import showClfResult, get_samples, labeledDataFromJson\n",
    "\n",
    "template = '/data-0/tigergraph/template'\n",
    "all_templates = get_all_template_path(template_dir = template)\n",
    "sampled_template_path = sample_template_path(all_templates)\n",
    "sampled_template_df = sample_template(sampled_template_path, num_samples=1)\n",
    "\n",
    "# 全部银行模版中，取last40打标签；\n",
    "count_bank = sampled_template_df.groupby('bank').count()\n",
    "\n",
    "remaining_bank_list = count_bank.sort_values(by ='sms').iloc[10:].index.tolist()\n",
    "last40_sampled_template_df = sampled_template_df[sampled_template_df.bank.isin(remaining_bank_list)]\n",
    "last40_sampled_template_df['unique_template_id'] = last40_sampled_template_df.bank + '_' + last40_sampled_template_df.cluster_id\n",
    "last40_sampled_template_df['sms'] = last40_sampled_template_df.unique_template_id + ' ' + last40_sampled_template_df.sms\n",
    "last40_sampled_template_df = preprocess(last40_sampled_template_df)\n"
   ]
  },
  {
   "cell_type": "raw",
   "metadata": {},
   "source": [
    "#将上面的弄到本地打标签\n",
    "to_tag = last40_sampled_template_df[['new_sms']]\n",
    "with open(\"last40_bank_template.txt\",\"w\") as f:\n",
    "    for i in to_tag.new_sms.tolist():\n",
    "        f.write(i)"
   ]
  },
  {
   "cell_type": "code",
   "execution_count": 5,
   "metadata": {},
   "outputs": [],
   "source": [
    "# 打完标签上传上来；\n",
    "last_40_train_path = '/home/qibo/项目2_sms/综合/bank-top-10-data/last40bank.json'\n",
    "labeled_df = labeledDataFromJson(last_40_train_path)\n",
    "# 拼接到一起；\n",
    "last40_sampled_template_df['label'] = labeled_df.label.tolist()\n",
    "last40_sampled_template_df.label = last40_sampled_template_df.label.apply(lambda x: x[0] if isinstance(x, list) else x)\n",
    "\n",
    "# md, 我分类的预处理没有对这个括号做处理，然而NER中需要这一步操作，分类中 必须要保证 模版中的sms处理方式与instance一致，即不处理为最好。\n",
    "last40_sampled_template_df.new_sms = [i.strip().replace('(', ' (') for i in last40_sampled_template_df.new_sms.tolist()]"
   ]
  },
  {
   "cell_type": "markdown",
   "metadata": {},
   "source": [
    "## 采样100个 用来最test"
   ]
  },
  {
   "cell_type": "code",
   "execution_count": 29,
   "metadata": {},
   "outputs": [],
   "source": [
    "#将上面的弄到本地打标签\n",
    "to_tag3 = last40_sampled_template_df[last40_sampled_template_df.label!='sms_other']\n",
    "sms = to_tag3.sample(100).sms.tolist()\n",
    "with open(\"last40_bank_TEST100_NER.txt\", \"w\") as f:\n",
    "    for i in sms:\n",
    "        f.write(i)"
   ]
  },
  {
   "cell_type": "code",
   "execution_count": 9,
   "metadata": {},
   "outputs": [],
   "source": [
    "Last40Banklist = last40_sampled_template_df.bank.unique()"
   ]
  },
  {
   "cell_type": "code",
   "execution_count": 10,
   "metadata": {},
   "outputs": [
    {
     "name": "stdout",
     "output_type": "stream",
     "text": [
      "processing sentence num:0\n",
      "new_instance:Dear Customer Your Aadhar number updation request has been registered vide SR501756666 on 18-OCT-17. It will be completed within 7 working days.\n",
      "\n",
      "此短信来自于模版:ICICIB_78\n",
      "\n",
      "元组第三个代表模版ID:(0.5198714756890587, 'sms_other', 'ICICIB_78')\n"
     ]
    },
    {
     "data": {
      "text/plain": [
       "'sms_other'"
      ]
     },
     "execution_count": 10,
     "metadata": {},
     "output_type": "execute_result"
    }
   ],
   "source": [
    "sms = get_samples(Last40Banklist, sampled_template_path)\n",
    "showClfResult(sms, last40_sampled_template_df)"
   ]
  },
  {
   "cell_type": "code",
   "execution_count": 11,
   "metadata": {},
   "outputs": [],
   "source": [
    "# 有个别错误标签；\n",
    "revise = ['sms_other', '交易流水＿转账', 'sms_other','交易流水＿转账','sms_other','信用卡＿还款提醒','sms_other','sms_other','交易流水＿转账']\n",
    "error_idx = last40_sampled_template_df[last40_sampled_template_df.label.isin(['error'])].index\n",
    "last40_sampled_template_df.loc[error_idx,'label'] = revise"
   ]
  },
  {
   "cell_type": "code",
   "execution_count": 12,
   "metadata": {},
   "outputs": [],
   "source": [
    "# 先取一半打标签；\n",
    "half_bank = last40_sampled_template_df.bank.unique()[:9]\n",
    "count_bank = last40_sampled_template_df.groupby('bank').count()\n",
    "half_bank = count_bank.sort_values(by ='sms')[:18].index.tolist()\n",
    "\n",
    "\n",
    "to_tag2 = last40_sampled_template_df[last40_sampled_template_df.label!='sms_other']\n",
    "to_tag2 = to_tag2[to_tag2.bank.isin(half_bank)]\n",
    "to_tag2.new_sms = to_tag2.label + ' ' + to_tag2.new_sms"
   ]
  },
  {
   "cell_type": "code",
   "execution_count": 17,
   "metadata": {},
   "outputs": [],
   "source": [
    "#将上面的弄到本地打标签\n",
    "with open(\"last40_bank_template_NER.txt\", \"w\") as f:\n",
    "    for i in to_tag2.new_sms.tolist():\n",
    "        f.write(i)"
   ]
  },
  {
   "cell_type": "code",
   "execution_count": null,
   "metadata": {},
   "outputs": [],
   "source": [
    "scp tigergraph@192.168.20.241:/home/tigergraph/generate_template_qb_test/last40_bank_template_NER.txt /Users/cashbus/Documents/工作/"
   ]
  },
  {
   "cell_type": "code",
   "execution_count": null,
   "metadata": {},
   "outputs": [],
   "source": [
    "last40_bank_template_NER.txt"
   ]
  }
 ],
 "metadata": {
  "celltoolbar": "Tags",
  "kernelspec": {
   "display_name": "Python 3",
   "language": "python",
   "name": "python3"
  },
  "language_info": {
   "codemirror_mode": {
    "name": "ipython",
    "version": 3
   },
   "file_extension": ".py",
   "mimetype": "text/x-python",
   "name": "python",
   "nbconvert_exporter": "python",
   "pygments_lexer": "ipython3",
   "version": "3.5.2"
  }
 },
 "nbformat": 4,
 "nbformat_minor": 2
}
